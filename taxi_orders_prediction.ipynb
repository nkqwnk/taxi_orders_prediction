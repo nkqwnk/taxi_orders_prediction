{
 "cells": [
  {
   "cell_type": "markdown",
   "id": "445149e5",
   "metadata": {},
   "source": [
    "# Предсказание заказов такси на следующий час"
   ]
  },
  {
   "cell_type": "markdown",
   "id": "4e02be33",
   "metadata": {},
   "source": [
    "Имеются синтетические данные о заказах такси в аэропортах. Чтобы привлекать больше водителей в период пиковой нагрузки, нужно спрогнозировать количество заказов такси на следующий час. Целью данного проекта является создание модели для такого предсказания. Значение метрики RMSE на тестовой выборке должно быть не больше 48."
   ]
  },
  {
   "cell_type": "markdown",
   "id": "7a9bf8a6",
   "metadata": {},
   "source": [
    "## 1. Загрузка, анализ и обработка данных"
   ]
  },
  {
   "cell_type": "markdown",
   "id": "23233bbe",
   "metadata": {},
   "source": [
    "В начале импортируем необходимые в дальнейшей работе библиотеки:"
   ]
  },
  {
   "cell_type": "code",
   "execution_count": 1,
   "id": "e8c54e09",
   "metadata": {},
   "outputs": [],
   "source": [
    "import pandas as pd\n",
    "from statsmodels.tsa.seasonal import seasonal_decompose\n",
    "import matplotlib.pyplot as plt\n",
    "from sklearn.model_selection import train_test_split\n",
    "from sklearn.metrics import mean_squared_error\n",
    "from sklearn.metrics import make_scorer\n",
    "from sklearn.model_selection import cross_val_score\n",
    "from sklearn.model_selection import GridSearchCV\n",
    "from sklearn.model_selection import TimeSeriesSplit\n",
    "from sklearn.linear_model import LinearRegression\n",
    "from sklearn.ensemble import RandomForestRegressor\n",
    "#!pip install lightgbm\n",
    "from lightgbm import LGBMRegressor"
   ]
  },
  {
   "cell_type": "markdown",
   "id": "055caadf",
   "metadata": {},
   "source": [
    "Загрузим набор данных, сразу переведя временные данные в нужный тип и воспользовавшись ими в качестве индекса:"
   ]
  },
  {
   "cell_type": "code",
   "execution_count": 2,
   "id": "cae77b9f",
   "metadata": {},
   "outputs": [],
   "source": [
    "try:\n",
    "    taxis = pd.read_csv('taxi.csv', index_col=[0], parse_dates=[0])\n",
    "except:\n",
    "    taxis = pd.read_csv('/datasets/taxi.csv', index_col=[0], parse_dates=[0])"
   ]
  },
  {
   "cell_type": "markdown",
   "id": "ade756ee",
   "metadata": {},
   "source": [
    "Проверим, располагаются ли данные в хронологическом порядке:"
   ]
  },
  {
   "cell_type": "code",
   "execution_count": 3,
   "id": "2854195b",
   "metadata": {},
   "outputs": [
    {
     "data": {
      "text/plain": [
       "True"
      ]
     },
     "execution_count": 3,
     "metadata": {},
     "output_type": "execute_result"
    }
   ],
   "source": [
    "taxis.index.is_monotonic"
   ]
  },
  {
   "cell_type": "markdown",
   "id": "e15cd6af",
   "metadata": {},
   "source": [
    "Все в порядке - данные идут по порядку. Взглянем на получившийся датафрейм:"
   ]
  },
  {
   "cell_type": "code",
   "execution_count": 4,
   "id": "7c1ff679",
   "metadata": {},
   "outputs": [
    {
     "data": {
      "text/html": [
       "<div>\n",
       "<style scoped>\n",
       "    .dataframe tbody tr th:only-of-type {\n",
       "        vertical-align: middle;\n",
       "    }\n",
       "\n",
       "    .dataframe tbody tr th {\n",
       "        vertical-align: top;\n",
       "    }\n",
       "\n",
       "    .dataframe thead th {\n",
       "        text-align: right;\n",
       "    }\n",
       "</style>\n",
       "<table border=\"1\" class=\"dataframe\">\n",
       "  <thead>\n",
       "    <tr style=\"text-align: right;\">\n",
       "      <th></th>\n",
       "      <th>num_orders</th>\n",
       "    </tr>\n",
       "    <tr>\n",
       "      <th>datetime</th>\n",
       "      <th></th>\n",
       "    </tr>\n",
       "  </thead>\n",
       "  <tbody>\n",
       "    <tr>\n",
       "      <th>2018-03-01 00:00:00</th>\n",
       "      <td>9</td>\n",
       "    </tr>\n",
       "    <tr>\n",
       "      <th>2018-03-01 00:10:00</th>\n",
       "      <td>14</td>\n",
       "    </tr>\n",
       "    <tr>\n",
       "      <th>2018-03-01 00:20:00</th>\n",
       "      <td>28</td>\n",
       "    </tr>\n",
       "  </tbody>\n",
       "</table>\n",
       "</div>"
      ],
      "text/plain": [
       "                     num_orders\n",
       "datetime                       \n",
       "2018-03-01 00:00:00           9\n",
       "2018-03-01 00:10:00          14\n",
       "2018-03-01 00:20:00          28"
      ]
     },
     "execution_count": 4,
     "metadata": {},
     "output_type": "execute_result"
    }
   ],
   "source": [
    "taxis.head(3)"
   ]
  },
  {
   "cell_type": "markdown",
   "id": "f7bba6ff",
   "metadata": {},
   "source": [
    "Согласно цели проекта, проведем ресемплирование данных, используя интервал в 1 час. В качестве агрегирующей функции воспользуемся суммированием:"
   ]
  },
  {
   "cell_type": "code",
   "execution_count": 5,
   "id": "62d908c2",
   "metadata": {
    "scrolled": true
   },
   "outputs": [],
   "source": [
    "taxis = taxis.resample('1H').sum()"
   ]
  },
  {
   "cell_type": "markdown",
   "id": "1965b06b",
   "metadata": {},
   "source": [
    "Теперь посмотрим, данными на каком временном промежутке мы располагаем:"
   ]
  },
  {
   "cell_type": "code",
   "execution_count": 6,
   "id": "22013640",
   "metadata": {},
   "outputs": [
    {
     "name": "stdout",
     "output_type": "stream",
     "text": [
      "2018-03-01 00:00:00 2018-08-31 23:00:00\n"
     ]
    }
   ],
   "source": [
    "print(taxis.index.min(), taxis.index.max())"
   ]
  },
  {
   "cell_type": "markdown",
   "id": "722e4cf5",
   "metadata": {},
   "source": [
    "Видим, что датафрейм содержит информацию о количестве заказов на протяжении 6 месяцев 2018 года - с начала марта по конец августа. "
   ]
  },
  {
   "cell_type": "markdown",
   "id": "2bd8c6ab",
   "metadata": {},
   "source": [
    "Теперь получим информацию о трендах и сезонности. Сначала ознакомимся с информацией о тренде за все время наблюдений:"
   ]
  },
  {
   "cell_type": "code",
   "execution_count": 7,
   "id": "ef1ecf35",
   "metadata": {},
   "outputs": [],
   "source": [
    "decomposed = seasonal_decompose(taxis['num_orders']['2018-03-01':'2018-08-31'])"
   ]
  },
  {
   "cell_type": "code",
   "execution_count": 8,
   "id": "6ecce307",
   "metadata": {},
   "outputs": [
    {
     "data": {
      "image/png": "[encoded data removed]",
      "text/plain": [
       "<Figure size 1000x300 with 1 Axes>"
      ]
     },
     "metadata": {},
     "output_type": "display_data"
    }
   ],
   "source": [
    "plt.figure(figsize=(10, 3))\n",
    "decomposed.trend.plot(ax=plt.gca())\n",
    "plt.title('Trend')\n",
    "plt.tight_layout()"
   ]
  },
  {
   "cell_type": "markdown",
   "id": "59724a1c",
   "metadata": {},
   "source": [
    "Видим постепенно растущий тренд от начала к концу наблюдений. Можем предположить, что он связан с годовой сезонностью (рост числа заказов летом). Предположение это проверить не можем, так как данными располагаем лишь за полгода. "
   ]
  },
  {
   "cell_type": "markdown",
   "id": "a078c0cc",
   "metadata": {},
   "source": [
    "Теперь исследуем тренды и сезонность за последний месяц наблюдений:"
   ]
  },
  {
   "cell_type": "code",
   "execution_count": 9,
   "id": "85adcc88",
   "metadata": {},
   "outputs": [],
   "source": [
    "decomposed = seasonal_decompose(taxis['num_orders']['2018-08-01':'2018-08-31'])"
   ]
  },
  {
   "cell_type": "code",
   "execution_count": 10,
   "id": "9842ff98",
   "metadata": {},
   "outputs": [
    {
     "data": {
      "image/png": "[encoded data removed]",
      "text/plain": [
       "<Figure size 1000x800 with 2 Axes>"
      ]
     },
     "metadata": {},
     "output_type": "display_data"
    }
   ],
   "source": [
    "plt.figure(figsize=(10, 8))\n",
    "plt.subplot(311)\n",
    "decomposed.trend.plot(ax=plt.gca())\n",
    "plt.title('Trend')\n",
    "plt.subplot(312)\n",
    "decomposed.seasonal.plot(ax=plt.gca())\n",
    "plt.title('Seasonality')\n",
    "plt.tight_layout()"
   ]
  },
  {
   "cell_type": "markdown",
   "id": "0f99e7f8",
   "metadata": {},
   "source": [
    "Видим тот же постепенно растущий тренд, на котором также можем наблюдать его некоторый спад по воскресеньям. Кроме того, можем наблюдать суточную сезонность. Рассмотрим ее подробнее:"
   ]
  },
  {
   "cell_type": "code",
   "execution_count": 11,
   "id": "9ac04843",
   "metadata": {},
   "outputs": [],
   "source": [
    "decomposed = seasonal_decompose(taxis['num_orders']['2018-08-01':'2018-08-02'])"
   ]
  },
  {
   "cell_type": "code",
   "execution_count": 12,
   "id": "368f5d63",
   "metadata": {},
   "outputs": [
    {
     "data": {
      "image/png": "[encoded data removed]",
      "text/plain": [
       "<Figure size 1000x300 with 1 Axes>"
      ]
     },
     "metadata": {},
     "output_type": "display_data"
    }
   ],
   "source": [
    "plt.figure(figsize=(10, 3))\n",
    "decomposed.seasonal.plot(ax=plt.gca())\n",
    "plt.title('Seasonal')\n",
    "plt.tight_layout()"
   ]
  },
  {
   "cell_type": "markdown",
   "id": "dc086e7a",
   "metadata": {},
   "source": [
    "Видим, что суточный минимум на графике достигается в 6 часов. Можем предположить, что люди до этого времени спят, а после - встают и едут на работу, с чем связан рост числа заказов такси. После 6 происходит постепенный рост с локальным пиком в 10 часов. Вероятно, после этого времени большая часть людей уже оказывается на работе. После спада в районе 12, рост продолжается примерно до 17 часов, после чего в 18 достигается локальный минимум. Скорее всего, в районе 17 люди заказывают такси, чтобы попасть с места работы домой, а дорога в среднем занимает час. Затем рост продолжается до суточного максимума примерно в 2 часа и стремительно падает к суточному минимуму следующего дня. Вероятно, ночной рост связан с тем, что ночью не работает общественный транспорт, поэтому с какого-то времени такси становится единственным вариантом перемещения.  "
   ]
  },
  {
   "cell_type": "markdown",
   "id": "e093a52d",
   "metadata": {},
   "source": [
    "Создадим функцию для добавления признаков, на вход она принимает датафрейм и название целевого признака:"
   ]
  },
  {
   "cell_type": "code",
   "execution_count": 13,
   "id": "9ca8bf73",
   "metadata": {},
   "outputs": [],
   "source": [
    "def make_features(data, target_col):\n",
    "    new_data = data.copy()\n",
    "    new_data['dayofweek'] = new_data.index.dayofweek\n",
    "    new_data['hour'] = new_data.index.hour\n",
    "    new_data['lag_1'] = new_data[target_col].shift(1)\n",
    "    new_data['rolling_mean'] = new_data[target_col].shift().rolling(24).mean()\n",
    "    return new_data"
   ]
  },
  {
   "cell_type": "code",
   "execution_count": 14,
   "id": "97f05106",
   "metadata": {},
   "outputs": [],
   "source": [
    "taxis_new = make_features(taxis, 'num_orders')"
   ]
  },
  {
   "cell_type": "markdown",
   "id": "1edf48bd",
   "metadata": {},
   "source": [
    "## 2. Обучение моделей"
   ]
  },
  {
   "cell_type": "markdown",
   "id": "c17f9e9d",
   "metadata": {},
   "source": [
    "Сперва разделим данные на выборки, оставив для тестового набора 10% данных:"
   ]
  },
  {
   "cell_type": "code",
   "execution_count": 15,
   "id": "64682353",
   "metadata": {},
   "outputs": [],
   "source": [
    "train, test = train_test_split(taxis_new, shuffle=False, test_size=0.1)"
   ]
  },
  {
   "cell_type": "markdown",
   "id": "10f21a04",
   "metadata": {},
   "source": [
    "Кроме того, удалим из обучающего набора строки с пропущенными значениями, которые будут мешать обучению:"
   ]
  },
  {
   "cell_type": "code",
   "execution_count": 16,
   "id": "5babbb72",
   "metadata": {},
   "outputs": [],
   "source": [
    "train = train.dropna()"
   ]
  },
  {
   "cell_type": "markdown",
   "id": "19708eb2",
   "metadata": {},
   "source": [
    "Теперь оба этих набора разделим на обучающие и целевой признаки: "
   ]
  },
  {
   "cell_type": "code",
   "execution_count": 17,
   "id": "b97283ed",
   "metadata": {},
   "outputs": [],
   "source": [
    "features_train = train.drop('num_orders', axis=1)\n",
    "target_train = train['num_orders']"
   ]
  },
  {
   "cell_type": "code",
   "execution_count": 18,
   "id": "df021905",
   "metadata": {},
   "outputs": [],
   "source": [
    "features_test = test.drop('num_orders', axis=1)\n",
    "target_test = test['num_orders']"
   ]
  },
  {
   "cell_type": "markdown",
   "id": "545a5ae1",
   "metadata": {},
   "source": [
    "Также создадим функцию оценки качества моделей, которая будет вычислять необходимую нам метрику - RMSE:"
   ]
  },
  {
   "cell_type": "code",
   "execution_count": 19,
   "id": "79ac2b26",
   "metadata": {},
   "outputs": [],
   "source": [
    "rmse = make_scorer(mean_squared_error, squared=False, greater_is_better=False)"
   ]
  },
  {
   "cell_type": "markdown",
   "id": "042c6161",
   "metadata": {},
   "source": [
    "Начнем с обучения модели **линейной регрессии**. Создадим модель:"
   ]
  },
  {
   "cell_type": "code",
   "execution_count": 20,
   "id": "aeb6a312",
   "metadata": {},
   "outputs": [],
   "source": [
    "model = LinearRegression()"
   ]
  },
  {
   "cell_type": "markdown",
   "id": "7d4e6065",
   "metadata": {},
   "source": [
    "Проведем кросс-валидацию с помощью средства TimeSeriesSplit, для чего создадим переменную-сплиттер:"
   ]
  },
  {
   "cell_type": "code",
   "execution_count": 21,
   "id": "226e6d94",
   "metadata": {},
   "outputs": [],
   "source": [
    "tscv = TimeSeriesSplit()"
   ]
  },
  {
   "cell_type": "code",
   "execution_count": 22,
   "id": "c10c8286",
   "metadata": {},
   "outputs": [],
   "source": [
    "scores = cross_val_score(model, features_train, target_train, scoring=rmse, cv=tscv)"
   ]
  },
  {
   "cell_type": "markdown",
   "id": "efa03c54",
   "metadata": {},
   "source": [
    "Выведем результаты кросс-валидации - значения метрик при каждой итерации и их среднее:"
   ]
  },
  {
   "cell_type": "code",
   "execution_count": 23,
   "id": "a66d6bf0",
   "metadata": {},
   "outputs": [
    {
     "name": "stdout",
     "output_type": "stream",
     "text": [
      "[26.96819961 29.42951541 30.38769452 32.2295891  39.95375047]\n",
      "31.79374982444761\n"
     ]
    }
   ],
   "source": [
    "print(abs(scores))\n",
    "print(abs(scores).mean())"
   ]
  },
  {
   "cell_type": "markdown",
   "id": "0e6e1595",
   "metadata": {},
   "source": [
    "Как видим, при среднем значении RMSE в 31.8, наша модель вполне удовлетворяет потребностям заказчика."
   ]
  },
  {
   "cell_type": "markdown",
   "id": "65c24726",
   "metadata": {},
   "source": [
    "Теперь обучим модель **случайного леса**:"
   ]
  },
  {
   "cell_type": "code",
   "execution_count": 24,
   "id": "0c6cb5e8",
   "metadata": {},
   "outputs": [],
   "source": [
    "model = RandomForestRegressor()"
   ]
  },
  {
   "cell_type": "markdown",
   "id": "4d4271b9",
   "metadata": {},
   "source": [
    "Проведем гридсерч:"
   ]
  },
  {
   "cell_type": "code",
   "execution_count": 25,
   "id": "ef50cd35",
   "metadata": {},
   "outputs": [],
   "source": [
    "parameters = {'random_state' : [12345],\n",
    "              'n_estimators': range(80, 301, 20),\n",
    "              'max_depth': range(5, 36, 5)}\n",
    "\n",
    "grid = GridSearchCV(model, parameters, scoring=rmse, cv=tscv, verbose=3)"
   ]
  },
  {
   "cell_type": "code",
   "execution_count": 26,
   "id": "81e2c03b",
   "metadata": {
    "scrolled": true
   },
   "outputs": [
    {
     "name": "stdout",
     "output_type": "stream",
     "text": [
      "Fitting 5 folds for each of 84 candidates, totalling 420 fits\n",
      "[CV 1/5] END max_depth=5, n_estimators=80, random_state=12345;, score=-23.241 total time=   0.7s\n",
      "[CV 2/5] END max_depth=5, n_estimators=80, random_state=12345;, score=-27.227 total time=   0.8s\n",
      "[CV 3/5] END max_depth=5, n_estimators=80, random_state=12345;, score=-27.913 total time=   1.1s\n",
      "[CV 4/5] END max_depth=5, n_estimators=80, random_state=12345;, score=-28.583 total time=   1.5s\n",
      "[CV 5/5] END max_depth=5, n_estimators=80, random_state=12345;, score=-36.317 total time=   1.5s\n",
      "[CV 1/5] END max_depth=5, n_estimators=100, random_state=12345;, score=-23.264 total time=   0.8s\n",
      "[CV 2/5] END max_depth=5, n_estimators=100, random_state=12345;, score=-27.242 total time=   0.9s\n",
      "[CV 3/5] END max_depth=5, n_estimators=100, random_state=12345;, score=-27.804 total time=   1.0s\n",
      "[CV 4/5] END max_depth=5, n_estimators=100, random_state=12345;, score=-28.646 total time=   1.2s\n",
      "[CV 5/5] END max_depth=5, n_estimators=100, random_state=12345;, score=-36.378 total time=   1.4s\n",
      "[CV 1/5] END max_depth=5, n_estimators=120, random_state=12345;, score=-23.257 total time=   0.9s\n",
      "[CV 2/5] END max_depth=5, n_estimators=120, random_state=12345;, score=-27.216 total time=   1.1s\n",
      "[CV 3/5] END max_depth=5, n_estimators=120, random_state=12345;, score=-27.739 total time=   1.4s\n",
      "[CV 4/5] END max_depth=5, n_estimators=120, random_state=12345;, score=-28.549 total time=   1.6s\n",
      "[CV 5/5] END max_depth=5, n_estimators=120, random_state=12345;, score=-36.303 total time=   1.8s\n",
      "[CV 1/5] END max_depth=5, n_estimators=140, random_state=12345;, score=-23.205 total time=   1.1s\n",
      "[CV 2/5] END max_depth=5, n_estimators=140, random_state=12345;, score=-27.234 total time=   1.3s\n",
      "[CV 3/5] END max_depth=5, n_estimators=140, random_state=12345;, score=-27.647 total time=   1.5s\n",
      "[CV 4/5] END max_depth=5, n_estimators=140, random_state=12345;, score=-28.590 total time=   1.8s\n",
      "[CV 5/5] END max_depth=5, n_estimators=140, random_state=12345;, score=-36.360 total time=   2.0s\n",
      "[CV 1/5] END max_depth=5, n_estimators=160, random_state=12345;, score=-23.244 total time=   1.2s\n",
      "[CV 2/5] END max_depth=5, n_estimators=160, random_state=12345;, score=-27.169 total time=   1.6s\n",
      "[CV 3/5] END max_depth=5, n_estimators=160, random_state=12345;, score=-27.683 total time=   1.8s\n",
      "[CV 4/5] END max_depth=5, n_estimators=160, random_state=12345;, score=-28.544 total time=   2.2s\n",
      "[CV 5/5] END max_depth=5, n_estimators=160, random_state=12345;, score=-36.446 total time=   2.4s\n",
      "[CV 1/5] END max_depth=5, n_estimators=180, random_state=12345;, score=-23.229 total time=   1.3s\n",
      "[CV 2/5] END max_depth=5, n_estimators=180, random_state=12345;, score=-27.156 total time=   1.6s\n",
      "[CV 3/5] END max_depth=5, n_estimators=180, random_state=12345;, score=-27.686 total time=   1.9s\n",
      "[CV 4/5] END max_depth=5, n_estimators=180, random_state=12345;, score=-28.511 total time=   2.3s\n",
      "[CV 5/5] END max_depth=5, n_estimators=180, random_state=12345;, score=-36.475 total time=   2.8s\n",
      "[CV 1/5] END max_depth=5, n_estimators=200, random_state=12345;, score=-23.219 total time=   1.6s\n",
      "[CV 2/5] END max_depth=5, n_estimators=200, random_state=12345;, score=-27.120 total time=   2.0s\n",
      "[CV 3/5] END max_depth=5, n_estimators=200, random_state=12345;, score=-27.690 total time=   2.3s\n",
      "[CV 4/5] END max_depth=5, n_estimators=200, random_state=12345;, score=-28.521 total time=   2.6s\n",
      "[CV 5/5] END max_depth=5, n_estimators=200, random_state=12345;, score=-36.468 total time=   2.9s\n",
      "[CV 1/5] END max_depth=5, n_estimators=220, random_state=12345;, score=-23.214 total time=   1.6s\n",
      "[CV 2/5] END max_depth=5, n_estimators=220, random_state=12345;, score=-27.125 total time=   2.2s\n",
      "[CV 3/5] END max_depth=5, n_estimators=220, random_state=12345;, score=-27.688 total time=   3.2s\n",
      "[CV 4/5] END max_depth=5, n_estimators=220, random_state=12345;, score=-28.532 total time=   4.1s\n",
      "[CV 5/5] END max_depth=5, n_estimators=220, random_state=12345;, score=-36.561 total time=   3.7s\n",
      "[CV 1/5] END max_depth=5, n_estimators=240, random_state=12345;, score=-23.239 total time=   1.8s\n",
      "[CV 2/5] END max_depth=5, n_estimators=240, random_state=12345;, score=-27.127 total time=   2.9s\n",
      "[CV 3/5] END max_depth=5, n_estimators=240, random_state=12345;, score=-27.713 total time=   3.0s\n",
      "[CV 4/5] END max_depth=5, n_estimators=240, random_state=12345;, score=-28.519 total time=   3.5s\n",
      "[CV 5/5] END max_depth=5, n_estimators=240, random_state=12345;, score=-36.606 total time=   3.9s\n",
      "[CV 1/5] END max_depth=5, n_estimators=260, random_state=12345;, score=-23.252 total time=   2.6s\n",
      "[CV 2/5] END max_depth=5, n_estimators=260, random_state=12345;, score=-27.139 total time=   3.7s\n",
      "[CV 3/5] END max_depth=5, n_estimators=260, random_state=12345;, score=-27.700 total time=   4.4s\n",
      "[CV 4/5] END max_depth=5, n_estimators=260, random_state=12345;, score=-28.532 total time=   4.6s\n",
      "[CV 5/5] END max_depth=5, n_estimators=260, random_state=12345;, score=-36.631 total time=   6.2s\n",
      "[CV 1/5] END max_depth=5, n_estimators=280, random_state=12345;, score=-23.244 total time=   3.8s\n",
      "[CV 2/5] END max_depth=5, n_estimators=280, random_state=12345;, score=-27.132 total time=   3.0s\n",
      "[CV 3/5] END max_depth=5, n_estimators=280, random_state=12345;, score=-27.741 total time=   3.7s\n",
      "[CV 4/5] END max_depth=5, n_estimators=280, random_state=12345;, score=-28.515 total time=   4.3s\n",
      "[CV 5/5] END max_depth=5, n_estimators=280, random_state=12345;, score=-36.646 total time=   5.1s\n",
      "[CV 1/5] END max_depth=5, n_estimators=300, random_state=12345;, score=-23.268 total time=   2.6s\n",
      "[CV 2/5] END max_depth=5, n_estimators=300, random_state=12345;, score=-27.126 total time=   3.5s\n",
      "[CV 3/5] END max_depth=5, n_estimators=300, random_state=12345;, score=-27.734 total time=   4.2s\n",
      "[CV 4/5] END max_depth=5, n_estimators=300, random_state=12345;, score=-28.517 total time=   5.8s\n",
      "[CV 5/5] END max_depth=5, n_estimators=300, random_state=12345;, score=-36.637 total time=   7.4s\n",
      "[CV 1/5] END max_depth=10, n_estimators=80, random_state=12345;, score=-22.742 total time=   1.0s\n",
      "[CV 2/5] END max_depth=10, n_estimators=80, random_state=12345;, score=-24.530 total time=   1.3s\n",
      "[CV 3/5] END max_depth=10, n_estimators=80, random_state=12345;, score=-24.456 total time=   1.9s\n",
      "[CV 4/5] END max_depth=10, n_estimators=80, random_state=12345;, score=-24.700 total time=   2.1s\n",
      "[CV 5/5] END max_depth=10, n_estimators=80, random_state=12345;, score=-31.417 total time=   2.9s\n",
      "[CV 1/5] END max_depth=10, n_estimators=100, random_state=12345;, score=-22.778 total time=   1.5s\n",
      "[CV 2/5] END max_depth=10, n_estimators=100, random_state=12345;, score=-24.644 total time=   1.4s\n",
      "[CV 3/5] END max_depth=10, n_estimators=100, random_state=12345;, score=-24.455 total time=   1.8s\n",
      "[CV 4/5] END max_depth=10, n_estimators=100, random_state=12345;, score=-24.681 total time=   2.2s\n",
      "[CV 5/5] END max_depth=10, n_estimators=100, random_state=12345;, score=-31.526 total time=   2.6s\n",
      "[CV 1/5] END max_depth=10, n_estimators=120, random_state=12345;, score=-22.795 total time=   1.4s\n",
      "[CV 2/5] END max_depth=10, n_estimators=120, random_state=12345;, score=-24.736 total time=   2.2s\n",
      "[CV 3/5] END max_depth=10, n_estimators=120, random_state=12345;, score=-24.492 total time=   3.7s\n",
      "[CV 4/5] END max_depth=10, n_estimators=120, random_state=12345;, score=-24.745 total time=   3.0s\n",
      "[CV 5/5] END max_depth=10, n_estimators=120, random_state=12345;, score=-31.448 total time=   3.3s\n",
      "[CV 1/5] END max_depth=10, n_estimators=140, random_state=12345;, score=-22.775 total time=   2.0s\n",
      "[CV 2/5] END max_depth=10, n_estimators=140, random_state=12345;, score=-24.695 total time=   2.3s\n",
      "[CV 3/5] END max_depth=10, n_estimators=140, random_state=12345;, score=-24.451 total time=   3.7s\n",
      "[CV 4/5] END max_depth=10, n_estimators=140, random_state=12345;, score=-24.799 total time=   4.7s\n",
      "[CV 5/5] END max_depth=10, n_estimators=140, random_state=12345;, score=-31.590 total time=   4.2s\n",
      "[CV 1/5] END max_depth=10, n_estimators=160, random_state=12345;, score=-22.804 total time=   2.3s\n",
      "[CV 2/5] END max_depth=10, n_estimators=160, random_state=12345;, score=-24.598 total time=   2.7s\n",
      "[CV 3/5] END max_depth=10, n_estimators=160, random_state=12345;, score=-24.489 total time=   2.9s\n",
      "[CV 4/5] END max_depth=10, n_estimators=160, random_state=12345;, score=-24.802 total time=   3.4s\n",
      "[CV 5/5] END max_depth=10, n_estimators=160, random_state=12345;, score=-31.532 total time=   5.0s\n",
      "[CV 1/5] END max_depth=10, n_estimators=180, random_state=12345;, score=-22.764 total time=   1.9s\n",
      "[CV 2/5] END max_depth=10, n_estimators=180, random_state=12345;, score=-24.621 total time=   2.6s\n",
      "[CV 3/5] END max_depth=10, n_estimators=180, random_state=12345;, score=-24.475 total time=   3.1s\n",
      "[CV 4/5] END max_depth=10, n_estimators=180, random_state=12345;, score=-24.738 total time=   3.8s\n",
      "[CV 5/5] END max_depth=10, n_estimators=180, random_state=12345;, score=-31.563 total time=   2.8s\n",
      "[CV 1/5] END max_depth=10, n_estimators=200, random_state=12345;, score=-22.768 total time=   0.9s\n",
      "[CV 2/5] END max_depth=10, n_estimators=200, random_state=12345;, score=-24.603 total time=   1.3s\n",
      "[CV 3/5] END max_depth=10, n_estimators=200, random_state=12345;, score=-24.507 total time=   1.4s\n",
      "[CV 4/5] END max_depth=10, n_estimators=200, random_state=12345;, score=-24.746 total time=   1.5s\n",
      "[CV 5/5] END max_depth=10, n_estimators=200, random_state=12345;, score=-31.531 total time=   1.8s\n",
      "[CV 1/5] END max_depth=10, n_estimators=220, random_state=12345;, score=-22.763 total time=   0.8s\n",
      "[CV 2/5] END max_depth=10, n_estimators=220, random_state=12345;, score=-24.602 total time=   1.5s\n",
      "[CV 3/5] END max_depth=10, n_estimators=220, random_state=12345;, score=-24.550 total time=   3.7s\n",
      "[CV 4/5] END max_depth=10, n_estimators=220, random_state=12345;, score=-24.741 total time=   6.2s\n",
      "[CV 5/5] END max_depth=10, n_estimators=220, random_state=12345;, score=-31.620 total time=   5.9s\n",
      "[CV 1/5] END max_depth=10, n_estimators=240, random_state=12345;, score=-22.797 total time=   2.8s\n",
      "[CV 2/5] END max_depth=10, n_estimators=240, random_state=12345;, score=-24.623 total time=   3.9s\n",
      "[CV 3/5] END max_depth=10, n_estimators=240, random_state=12345;, score=-24.572 total time=   4.8s\n",
      "[CV 4/5] END max_depth=10, n_estimators=240, random_state=12345;, score=-24.781 total time=   5.7s\n",
      "[CV 5/5] END max_depth=10, n_estimators=240, random_state=12345;, score=-31.649 total time=   7.2s\n",
      "[CV 1/5] END max_depth=10, n_estimators=260, random_state=12345;, score=-22.793 total time=   3.0s\n",
      "[CV 2/5] END max_depth=10, n_estimators=260, random_state=12345;, score=-24.665 total time=   5.3s\n",
      "[CV 3/5] END max_depth=10, n_estimators=260, random_state=12345;, score=-24.551 total time=   4.6s\n",
      "[CV 4/5] END max_depth=10, n_estimators=260, random_state=12345;, score=-24.772 total time=   7.5s\n",
      "[CV 5/5] END max_depth=10, n_estimators=260, random_state=12345;, score=-31.682 total time=   8.2s\n",
      "[CV 1/5] END max_depth=10, n_estimators=280, random_state=12345;, score=-22.766 total time=   3.5s\n",
      "[CV 2/5] END max_depth=10, n_estimators=280, random_state=12345;, score=-24.675 total time=   5.7s\n",
      "[CV 3/5] END max_depth=10, n_estimators=280, random_state=12345;, score=-24.584 total time=   6.8s\n",
      "[CV 4/5] END max_depth=10, n_estimators=280, random_state=12345;, score=-24.774 total time=   7.1s\n",
      "[CV 5/5] END max_depth=10, n_estimators=280, random_state=12345;, score=-31.661 total time=   8.9s\n",
      "[CV 1/5] END max_depth=10, n_estimators=300, random_state=12345;, score=-22.805 total time=   3.9s\n",
      "[CV 2/5] END max_depth=10, n_estimators=300, random_state=12345;, score=-24.695 total time=   5.0s\n",
      "[CV 3/5] END max_depth=10, n_estimators=300, random_state=12345;, score=-24.589 total time=   5.4s\n",
      "[CV 4/5] END max_depth=10, n_estimators=300, random_state=12345;, score=-24.771 total time=   7.5s\n",
      "[CV 5/5] END max_depth=10, n_estimators=300, random_state=12345;, score=-31.670 total time=   8.8s\n",
      "[CV 1/5] END max_depth=15, n_estimators=80, random_state=12345;, score=-22.876 total time=   1.1s\n",
      "[CV 2/5] END max_depth=15, n_estimators=80, random_state=12345;, score=-24.712 total time=   2.1s\n",
      "[CV 3/5] END max_depth=15, n_estimators=80, random_state=12345;, score=-24.309 total time=   2.0s\n",
      "[CV 4/5] END max_depth=15, n_estimators=80, random_state=12345;, score=-24.486 total time=   2.4s\n",
      "[CV 5/5] END max_depth=15, n_estimators=80, random_state=12345;, score=-30.838 total time=   2.7s\n",
      "[CV 1/5] END max_depth=15, n_estimators=100, random_state=12345;, score=-22.882 total time=   1.1s\n",
      "[CV 2/5] END max_depth=15, n_estimators=100, random_state=12345;, score=-24.757 total time=   1.7s\n",
      "[CV 3/5] END max_depth=15, n_estimators=100, random_state=12345;, score=-24.344 total time=   2.5s\n",
      "[CV 4/5] END max_depth=15, n_estimators=100, random_state=12345;, score=-24.425 total time=   3.4s\n",
      "[CV 5/5] END max_depth=15, n_estimators=100, random_state=12345;, score=-30.877 total time=   4.1s\n",
      "[CV 1/5] END max_depth=15, n_estimators=120, random_state=12345;, score=-22.881 total time=   1.4s\n",
      "[CV 2/5] END max_depth=15, n_estimators=120, random_state=12345;, score=-24.878 total time=   2.2s\n",
      "[CV 3/5] END max_depth=15, n_estimators=120, random_state=12345;, score=-24.392 total time=   3.0s\n",
      "[CV 4/5] END max_depth=15, n_estimators=120, random_state=12345;, score=-24.464 total time=   3.8s\n",
      "[CV 5/5] END max_depth=15, n_estimators=120, random_state=12345;, score=-30.865 total time=   4.7s\n",
      "[CV 1/5] END max_depth=15, n_estimators=140, random_state=12345;, score=-22.881 total time=   1.6s\n",
      "[CV 2/5] END max_depth=15, n_estimators=140, random_state=12345;, score=-24.832 total time=   2.5s\n",
      "[CV 3/5] END max_depth=15, n_estimators=140, random_state=12345;, score=-24.369 total time=   3.6s\n",
      "[CV 4/5] END max_depth=15, n_estimators=140, random_state=12345;, score=-24.527 total time=   4.4s\n",
      "[CV 5/5] END max_depth=15, n_estimators=140, random_state=12345;, score=-30.905 total time=   4.9s\n",
      "[CV 1/5] END max_depth=15, n_estimators=160, random_state=12345;, score=-22.904 total time=   1.8s\n",
      "[CV 2/5] END max_depth=15, n_estimators=160, random_state=12345;, score=-24.719 total time=   2.8s\n",
      "[CV 3/5] END max_depth=15, n_estimators=160, random_state=12345;, score=-24.397 total time=   4.2s\n",
      "[CV 4/5] END max_depth=15, n_estimators=160, random_state=12345;, score=-24.562 total time=   5.7s\n",
      "[CV 5/5] END max_depth=15, n_estimators=160, random_state=12345;, score=-30.853 total time=   6.2s\n",
      "[CV 1/5] END max_depth=15, n_estimators=180, random_state=12345;, score=-22.859 total time=   3.0s\n",
      "[CV 2/5] END max_depth=15, n_estimators=180, random_state=12345;, score=-24.750 total time=   3.9s\n",
      "[CV 3/5] END max_depth=15, n_estimators=180, random_state=12345;, score=-24.332 total time=   4.6s\n",
      "[CV 4/5] END max_depth=15, n_estimators=180, random_state=12345;, score=-24.468 total time=   5.7s\n",
      "[CV 5/5] END max_depth=15, n_estimators=180, random_state=12345;, score=-30.889 total time=   7.0s\n",
      "[CV 1/5] END max_depth=15, n_estimators=200, random_state=12345;, score=-22.867 total time=   2.3s\n",
      "[CV 2/5] END max_depth=15, n_estimators=200, random_state=12345;, score=-24.762 total time=   3.5s\n",
      "[CV 3/5] END max_depth=15, n_estimators=200, random_state=12345;, score=-24.342 total time=   5.2s\n",
      "[CV 4/5] END max_depth=15, n_estimators=200, random_state=12345;, score=-24.487 total time=   6.4s\n",
      "[CV 5/5] END max_depth=15, n_estimators=200, random_state=12345;, score=-30.848 total time=   7.4s\n",
      "[CV 1/5] END max_depth=15, n_estimators=220, random_state=12345;, score=-22.872 total time=   1.3s\n",
      "[CV 2/5] END max_depth=15, n_estimators=220, random_state=12345;, score=-24.718 total time=   1.9s\n",
      "[CV 3/5] END max_depth=15, n_estimators=220, random_state=12345;, score=-24.346 total time=   2.2s\n",
      "[CV 4/5] END max_depth=15, n_estimators=220, random_state=12345;, score=-24.465 total time=   2.8s\n",
      "[CV 5/5] END max_depth=15, n_estimators=220, random_state=12345;, score=-30.857 total time=   6.4s\n",
      "[CV 1/5] END max_depth=15, n_estimators=240, random_state=12345;, score=-22.884 total time=   3.0s\n",
      "[CV 2/5] END max_depth=15, n_estimators=240, random_state=12345;, score=-24.737 total time=   5.0s\n",
      "[CV 3/5] END max_depth=15, n_estimators=240, random_state=12345;, score=-24.391 total time=   5.7s\n",
      "[CV 4/5] END max_depth=15, n_estimators=240, random_state=12345;, score=-24.522 total time=   9.1s\n",
      "[CV 5/5] END max_depth=15, n_estimators=240, random_state=12345;, score=-30.883 total time=   8.9s\n",
      "[CV 1/5] END max_depth=15, n_estimators=260, random_state=12345;, score=-22.895 total time=   3.4s\n",
      "[CV 2/5] END max_depth=15, n_estimators=260, random_state=12345;, score=-24.763 total time=   4.8s\n",
      "[CV 3/5] END max_depth=15, n_estimators=260, random_state=12345;, score=-24.373 total time=   6.5s\n",
      "[CV 4/5] END max_depth=15, n_estimators=260, random_state=12345;, score=-24.489 total time=   9.2s\n",
      "[CV 5/5] END max_depth=15, n_estimators=260, random_state=12345;, score=-30.880 total time=   9.9s\n",
      "[CV 1/5] END max_depth=15, n_estimators=280, random_state=12345;, score=-22.868 total time=   3.7s\n",
      "[CV 2/5] END max_depth=15, n_estimators=280, random_state=12345;, score=-24.771 total time=   5.0s\n",
      "[CV 3/5] END max_depth=15, n_estimators=280, random_state=12345;, score=-24.386 total time=   6.7s\n",
      "[CV 4/5] END max_depth=15, n_estimators=280, random_state=12345;, score=-24.501 total time=   8.3s\n",
      "[CV 5/5] END max_depth=15, n_estimators=280, random_state=12345;, score=-30.880 total time=  10.2s\n",
      "[CV 1/5] END max_depth=15, n_estimators=300, random_state=12345;, score=-22.901 total time=   3.4s\n",
      "[CV 2/5] END max_depth=15, n_estimators=300, random_state=12345;, score=-24.795 total time=   5.2s\n",
      "[CV 3/5] END max_depth=15, n_estimators=300, random_state=12345;, score=-24.398 total time=   7.9s\n",
      "[CV 4/5] END max_depth=15, n_estimators=300, random_state=12345;, score=-24.476 total time=   8.9s\n",
      "[CV 5/5] END max_depth=15, n_estimators=300, random_state=12345;, score=-30.872 total time=  10.8s\n",
      "[CV 1/5] END max_depth=20, n_estimators=80, random_state=12345;, score=-22.914 total time=   0.9s\n",
      "[CV 2/5] END max_depth=20, n_estimators=80, random_state=12345;, score=-24.735 total time=   1.3s\n",
      "[CV 3/5] END max_depth=20, n_estimators=80, random_state=12345;, score=-24.263 total time=   1.9s\n",
      "[CV 4/5] END max_depth=20, n_estimators=80, random_state=12345;, score=-24.488 total time=   2.6s\n",
      "[CV 5/5] END max_depth=20, n_estimators=80, random_state=12345;, score=-30.949 total time=   3.2s\n",
      "[CV 1/5] END max_depth=20, n_estimators=100, random_state=12345;, score=-22.950 total time=   1.2s\n",
      "[CV 2/5] END max_depth=20, n_estimators=100, random_state=12345;, score=-24.773 total time=   1.7s\n",
      "[CV 3/5] END max_depth=20, n_estimators=100, random_state=12345;, score=-24.311 total time=   2.4s\n",
      "[CV 4/5] END max_depth=20, n_estimators=100, random_state=12345;, score=-24.397 total time=   3.0s\n",
      "[CV 5/5] END max_depth=20, n_estimators=100, random_state=12345;, score=-30.927 total time=   4.0s\n",
      "[CV 1/5] END max_depth=20, n_estimators=120, random_state=12345;, score=-22.945 total time=   1.4s\n",
      "[CV 2/5] END max_depth=20, n_estimators=120, random_state=12345;, score=-24.862 total time=   3.0s\n",
      "[CV 3/5] END max_depth=20, n_estimators=120, random_state=12345;, score=-24.357 total time=   3.3s\n",
      "[CV 4/5] END max_depth=20, n_estimators=120, random_state=12345;, score=-24.459 total time=   4.7s\n",
      "[CV 5/5] END max_depth=20, n_estimators=120, random_state=12345;, score=-30.902 total time=   5.3s\n",
      "[CV 1/5] END max_depth=20, n_estimators=140, random_state=12345;, score=-22.937 total time=   1.7s\n",
      "[CV 2/5] END max_depth=20, n_estimators=140, random_state=12345;, score=-24.787 total time=   2.5s\n",
      "[CV 3/5] END max_depth=20, n_estimators=140, random_state=12345;, score=-24.357 total time=   3.3s\n",
      "[CV 4/5] END max_depth=20, n_estimators=140, random_state=12345;, score=-24.510 total time=   4.7s\n",
      "[CV 5/5] END max_depth=20, n_estimators=140, random_state=12345;, score=-30.950 total time=   7.1s\n",
      "[CV 1/5] END max_depth=20, n_estimators=160, random_state=12345;, score=-22.943 total time=   1.8s\n",
      "[CV 2/5] END max_depth=20, n_estimators=160, random_state=12345;, score=-24.689 total time=   3.0s\n",
      "[CV 3/5] END max_depth=20, n_estimators=160, random_state=12345;, score=-24.392 total time=   5.9s\n",
      "[CV 4/5] END max_depth=20, n_estimators=160, random_state=12345;, score=-24.556 total time=  10.3s\n",
      "[CV 5/5] END max_depth=20, n_estimators=160, random_state=12345;, score=-30.859 total time=   8.4s\n",
      "[CV 1/5] END max_depth=20, n_estimators=180, random_state=12345;, score=-22.904 total time=   2.6s\n",
      "[CV 2/5] END max_depth=20, n_estimators=180, random_state=12345;, score=-24.703 total time=   5.0s\n",
      "[CV 3/5] END max_depth=20, n_estimators=180, random_state=12345;, score=-24.328 total time=   6.8s\n",
      "[CV 4/5] END max_depth=20, n_estimators=180, random_state=12345;, score=-24.469 total time=   8.8s\n",
      "[CV 5/5] END max_depth=20, n_estimators=180, random_state=12345;, score=-30.889 total time=   6.8s\n",
      "[CV 1/5] END max_depth=20, n_estimators=200, random_state=12345;, score=-22.910 total time=   1.4s\n",
      "[CV 2/5] END max_depth=20, n_estimators=200, random_state=12345;, score=-24.722 total time=   1.6s\n",
      "[CV 3/5] END max_depth=20, n_estimators=200, random_state=12345;, score=-24.341 total time=   2.2s\n",
      "[CV 4/5] END max_depth=20, n_estimators=200, random_state=12345;, score=-24.476 total time=   2.8s\n",
      "[CV 5/5] END max_depth=20, n_estimators=200, random_state=12345;, score=-30.854 total time=   9.0s\n",
      "[CV 1/5] END max_depth=20, n_estimators=220, random_state=12345;, score=-22.912 total time=   3.7s\n",
      "[CV 2/5] END max_depth=20, n_estimators=220, random_state=12345;, score=-24.656 total time=   5.2s\n",
      "[CV 3/5] END max_depth=20, n_estimators=220, random_state=12345;, score=-24.362 total time=   6.5s\n",
      "[CV 4/5] END max_depth=20, n_estimators=220, random_state=12345;, score=-24.460 total time=   7.5s\n",
      "[CV 5/5] END max_depth=20, n_estimators=220, random_state=12345;, score=-30.869 total time=  11.2s\n",
      "[CV 1/5] END max_depth=20, n_estimators=240, random_state=12345;, score=-22.929 total time=   3.2s\n",
      "[CV 2/5] END max_depth=20, n_estimators=240, random_state=12345;, score=-24.690 total time=   4.6s\n",
      "[CV 3/5] END max_depth=20, n_estimators=240, random_state=12345;, score=-24.385 total time=   6.2s\n",
      "[CV 4/5] END max_depth=20, n_estimators=240, random_state=12345;, score=-24.487 total time=   8.0s\n",
      "[CV 5/5] END max_depth=20, n_estimators=240, random_state=12345;, score=-30.925 total time=  10.6s\n",
      "[CV 1/5] END max_depth=20, n_estimators=260, random_state=12345;, score=-22.931 total time=   4.2s\n",
      "[CV 2/5] END max_depth=20, n_estimators=260, random_state=12345;, score=-24.739 total time=   7.7s\n",
      "[CV 3/5] END max_depth=20, n_estimators=260, random_state=12345;, score=-24.360 total time=   8.7s\n",
      "[CV 4/5] END max_depth=20, n_estimators=260, random_state=12345;, score=-24.483 total time=  12.7s\n",
      "[CV 5/5] END max_depth=20, n_estimators=260, random_state=12345;, score=-30.928 total time=  14.3s\n",
      "[CV 1/5] END max_depth=20, n_estimators=280, random_state=12345;, score=-22.904 total time=   4.4s\n",
      "[CV 2/5] END max_depth=20, n_estimators=280, random_state=12345;, score=-24.752 total time=   7.8s\n",
      "[CV 3/5] END max_depth=20, n_estimators=280, random_state=12345;, score=-24.363 total time=  12.2s\n",
      "[CV 4/5] END max_depth=20, n_estimators=280, random_state=12345;, score=-24.492 total time=  11.9s\n",
      "[CV 5/5] END max_depth=20, n_estimators=280, random_state=12345;, score=-30.910 total time=  14.3s\n",
      "[CV 1/5] END max_depth=20, n_estimators=300, random_state=12345;, score=-22.934 total time=   4.5s\n",
      "[CV 2/5] END max_depth=20, n_estimators=300, random_state=12345;, score=-24.774 total time=   5.9s\n",
      "[CV 3/5] END max_depth=20, n_estimators=300, random_state=12345;, score=-24.383 total time=   7.9s\n",
      "[CV 4/5] END max_depth=20, n_estimators=300, random_state=12345;, score=-24.463 total time=  12.6s\n",
      "[CV 5/5] END max_depth=20, n_estimators=300, random_state=12345;, score=-30.889 total time=  16.6s\n",
      "[CV 1/5] END max_depth=25, n_estimators=80, random_state=12345;, score=-22.899 total time=   1.1s\n",
      "[CV 2/5] END max_depth=25, n_estimators=80, random_state=12345;, score=-24.708 total time=   1.8s\n",
      "[CV 3/5] END max_depth=25, n_estimators=80, random_state=12345;, score=-24.296 total time=   3.3s\n",
      "[CV 4/5] END max_depth=25, n_estimators=80, random_state=12345;, score=-24.382 total time=   3.2s\n",
      "[CV 5/5] END max_depth=25, n_estimators=80, random_state=12345;, score=-30.947 total time=   5.0s\n",
      "[CV 1/5] END max_depth=25, n_estimators=100, random_state=12345;, score=-22.936 total time=   1.4s\n",
      "[CV 2/5] END max_depth=25, n_estimators=100, random_state=12345;, score=-24.750 total time=   2.4s\n",
      "[CV 3/5] END max_depth=25, n_estimators=100, random_state=12345;, score=-24.329 total time=   3.5s\n",
      "[CV 4/5] END max_depth=25, n_estimators=100, random_state=12345;, score=-24.329 total time=   5.0s\n",
      "[CV 5/5] END max_depth=25, n_estimators=100, random_state=12345;, score=-30.917 total time=   7.5s\n",
      "[CV 1/5] END max_depth=25, n_estimators=120, random_state=12345;, score=-22.934 total time=   1.6s\n",
      "[CV 2/5] END max_depth=25, n_estimators=120, random_state=12345;, score=-24.837 total time=   2.6s\n",
      "[CV 3/5] END max_depth=25, n_estimators=120, random_state=12345;, score=-24.361 total time=   2.2s\n",
      "[CV 4/5] END max_depth=25, n_estimators=120, random_state=12345;, score=-24.397 total time=   2.1s\n",
      "[CV 5/5] END max_depth=25, n_estimators=120, random_state=12345;, score=-30.841 total time=   3.2s\n",
      "[CV 1/5] END max_depth=25, n_estimators=140, random_state=12345;, score=-22.926 total time=   1.2s\n",
      "[CV 2/5] END max_depth=25, n_estimators=140, random_state=12345;, score=-24.778 total time=   2.3s\n",
      "[CV 3/5] END max_depth=25, n_estimators=140, random_state=12345;, score=-24.337 total time=   4.6s\n",
      "[CV 4/5] END max_depth=25, n_estimators=140, random_state=12345;, score=-24.470 total time=   5.3s\n",
      "[CV 5/5] END max_depth=25, n_estimators=140, random_state=12345;, score=-30.906 total time=   6.5s\n",
      "[CV 1/5] END max_depth=25, n_estimators=160, random_state=12345;, score=-22.937 total time=   2.2s\n",
      "[CV 2/5] END max_depth=25, n_estimators=160, random_state=12345;, score=-24.685 total time=   3.1s\n",
      "[CV 3/5] END max_depth=25, n_estimators=160, random_state=12345;, score=-24.374 total time=   4.2s\n",
      "[CV 4/5] END max_depth=25, n_estimators=160, random_state=12345;, score=-24.522 total time=   6.0s\n",
      "[CV 5/5] END max_depth=25, n_estimators=160, random_state=12345;, score=-30.847 total time=   8.9s\n",
      "[CV 1/5] END max_depth=25, n_estimators=180, random_state=12345;, score=-22.903 total time=   2.2s\n",
      "[CV 2/5] END max_depth=25, n_estimators=180, random_state=12345;, score=-24.681 total time=   3.2s\n",
      "[CV 3/5] END max_depth=25, n_estimators=180, random_state=12345;, score=-24.296 total time=   4.6s\n",
      "[CV 4/5] END max_depth=25, n_estimators=180, random_state=12345;, score=-24.454 total time=   5.6s\n",
      "[CV 5/5] END max_depth=25, n_estimators=180, random_state=12345;, score=-30.872 total time=   6.9s\n",
      "[CV 1/5] END max_depth=25, n_estimators=200, random_state=12345;, score=-22.909 total time=   2.5s\n",
      "[CV 2/5] END max_depth=25, n_estimators=200, random_state=12345;, score=-24.712 total time=   5.1s\n",
      "[CV 3/5] END max_depth=25, n_estimators=200, random_state=12345;, score=-24.308 total time=   6.8s\n",
      "[CV 4/5] END max_depth=25, n_estimators=200, random_state=12345;, score=-24.460 total time=   9.4s\n",
      "[CV 5/5] END max_depth=25, n_estimators=200, random_state=12345;, score=-30.838 total time=  11.1s\n",
      "[CV 1/5] END max_depth=25, n_estimators=220, random_state=12345;, score=-22.912 total time=   3.0s\n",
      "[CV 2/5] END max_depth=25, n_estimators=220, random_state=12345;, score=-24.649 total time=   4.2s\n",
      "[CV 3/5] END max_depth=25, n_estimators=220, random_state=12345;, score=-24.339 total time=   5.8s\n",
      "[CV 4/5] END max_depth=25, n_estimators=220, random_state=12345;, score=-24.440 total time=   7.1s\n",
      "[CV 5/5] END max_depth=25, n_estimators=220, random_state=12345;, score=-30.841 total time=   8.6s\n",
      "[CV 1/5] END max_depth=25, n_estimators=240, random_state=12345;, score=-22.927 total time=   3.0s\n",
      "[CV 2/5] END max_depth=25, n_estimators=240, random_state=12345;, score=-24.681 total time=   4.3s\n",
      "[CV 3/5] END max_depth=25, n_estimators=240, random_state=12345;, score=-24.372 total time=   6.7s\n",
      "[CV 4/5] END max_depth=25, n_estimators=240, random_state=12345;, score=-24.482 total time=   8.8s\n",
      "[CV 5/5] END max_depth=25, n_estimators=240, random_state=12345;, score=-30.883 total time=  10.4s\n",
      "[CV 1/5] END max_depth=25, n_estimators=260, random_state=12345;, score=-22.929 total time=   3.6s\n",
      "[CV 2/5] END max_depth=25, n_estimators=260, random_state=12345;, score=-24.728 total time=   4.7s\n",
      "[CV 3/5] END max_depth=25, n_estimators=260, random_state=12345;, score=-24.356 total time=   7.2s\n",
      "[CV 4/5] END max_depth=25, n_estimators=260, random_state=12345;, score=-24.481 total time=   9.3s\n",
      "[CV 5/5] END max_depth=25, n_estimators=260, random_state=12345;, score=-30.882 total time=  10.8s\n",
      "[CV 1/5] END max_depth=25, n_estimators=280, random_state=12345;, score=-22.901 total time=   3.3s\n",
      "[CV 2/5] END max_depth=25, n_estimators=280, random_state=12345;, score=-24.746 total time=   5.3s\n",
      "[CV 3/5] END max_depth=25, n_estimators=280, random_state=12345;, score=-24.371 total time=   7.7s\n",
      "[CV 4/5] END max_depth=25, n_estimators=280, random_state=12345;, score=-24.502 total time=  13.3s\n",
      "[CV 5/5] END max_depth=25, n_estimators=280, random_state=12345;, score=-30.860 total time=  14.1s\n",
      "[CV 1/5] END max_depth=25, n_estimators=300, random_state=12345;, score=-22.931 total time=   5.5s\n",
      "[CV 2/5] END max_depth=25, n_estimators=300, random_state=12345;, score=-24.770 total time=   6.0s\n",
      "[CV 3/5] END max_depth=25, n_estimators=300, random_state=12345;, score=-24.383 total time=   7.4s\n",
      "[CV 4/5] END max_depth=25, n_estimators=300, random_state=12345;, score=-24.478 total time=   4.1s\n",
      "[CV 5/5] END max_depth=25, n_estimators=300, random_state=12345;, score=-30.829 total time=   5.3s\n",
      "[CV 1/5] END max_depth=30, n_estimators=80, random_state=12345;, score=-22.893 total time=   0.4s\n",
      "[CV 2/5] END max_depth=30, n_estimators=80, random_state=12345;, score=-24.699 total time=   1.2s\n",
      "[CV 3/5] END max_depth=30, n_estimators=80, random_state=12345;, score=-24.290 total time=   2.0s\n",
      "[CV 4/5] END max_depth=30, n_estimators=80, random_state=12345;, score=-24.359 total time=   2.5s\n",
      "[CV 5/5] END max_depth=30, n_estimators=80, random_state=12345;, score=-30.972 total time=   2.9s\n",
      "[CV 1/5] END max_depth=30, n_estimators=100, random_state=12345;, score=-22.932 total time=   1.1s\n",
      "[CV 2/5] END max_depth=30, n_estimators=100, random_state=12345;, score=-24.742 total time=   1.7s\n",
      "[CV 3/5] END max_depth=30, n_estimators=100, random_state=12345;, score=-24.320 total time=   4.5s\n",
      "[CV 4/5] END max_depth=30, n_estimators=100, random_state=12345;, score=-24.299 total time=   7.3s\n",
      "[CV 5/5] END max_depth=30, n_estimators=100, random_state=12345;, score=-30.948 total time=   5.2s\n",
      "[CV 1/5] END max_depth=30, n_estimators=120, random_state=12345;, score=-22.930 total time=   1.5s\n",
      "[CV 2/5] END max_depth=30, n_estimators=120, random_state=12345;, score=-24.831 total time=   2.1s\n",
      "[CV 3/5] END max_depth=30, n_estimators=120, random_state=12345;, score=-24.353 total time=   2.9s\n",
      "[CV 4/5] END max_depth=30, n_estimators=120, random_state=12345;, score=-24.363 total time=   3.6s\n",
      "[CV 5/5] END max_depth=30, n_estimators=120, random_state=12345;, score=-30.887 total time=   4.4s\n",
      "[CV 1/5] END max_depth=30, n_estimators=140, random_state=12345;, score=-22.923 total time=   1.6s\n",
      "[CV 2/5] END max_depth=30, n_estimators=140, random_state=12345;, score=-24.773 total time=   2.4s\n",
      "[CV 3/5] END max_depth=30, n_estimators=140, random_state=12345;, score=-24.333 total time=   3.4s\n",
      "[CV 4/5] END max_depth=30, n_estimators=140, random_state=12345;, score=-24.431 total time=   4.1s\n",
      "[CV 5/5] END max_depth=30, n_estimators=140, random_state=12345;, score=-30.949 total time=   5.2s\n",
      "[CV 1/5] END max_depth=30, n_estimators=160, random_state=12345;, score=-22.933 total time=   1.8s\n",
      "[CV 2/5] END max_depth=30, n_estimators=160, random_state=12345;, score=-24.680 total time=   2.8s\n",
      "[CV 3/5] END max_depth=30, n_estimators=160, random_state=12345;, score=-24.368 total time=   3.8s\n",
      "[CV 4/5] END max_depth=30, n_estimators=160, random_state=12345;, score=-24.489 total time=   4.8s\n",
      "[CV 5/5] END max_depth=30, n_estimators=160, random_state=12345;, score=-30.889 total time=   6.0s\n",
      "[CV 1/5] END max_depth=30, n_estimators=180, random_state=12345;, score=-22.899 total time=   2.1s\n",
      "[CV 2/5] END max_depth=30, n_estimators=180, random_state=12345;, score=-24.678 total time=   3.0s\n",
      "[CV 3/5] END max_depth=30, n_estimators=180, random_state=12345;, score=-24.291 total time=   4.2s\n",
      "[CV 4/5] END max_depth=30, n_estimators=180, random_state=12345;, score=-24.416 total time=   5.5s\n",
      "[CV 5/5] END max_depth=30, n_estimators=180, random_state=12345;, score=-30.910 total time=   6.7s\n",
      "[CV 1/5] END max_depth=30, n_estimators=200, random_state=12345;, score=-22.906 total time=   2.1s\n",
      "[CV 2/5] END max_depth=30, n_estimators=200, random_state=12345;, score=-24.710 total time=   3.4s\n",
      "[CV 3/5] END max_depth=30, n_estimators=200, random_state=12345;, score=-24.304 total time=   4.9s\n",
      "[CV 4/5] END max_depth=30, n_estimators=200, random_state=12345;, score=-24.421 total time=   6.1s\n",
      "[CV 5/5] END max_depth=30, n_estimators=200, random_state=12345;, score=-30.868 total time=   7.4s\n",
      "[CV 1/5] END max_depth=30, n_estimators=220, random_state=12345;, score=-22.909 total time=   2.5s\n",
      "[CV 2/5] END max_depth=30, n_estimators=220, random_state=12345;, score=-24.647 total time=   3.7s\n",
      "[CV 3/5] END max_depth=30, n_estimators=220, random_state=12345;, score=-24.330 total time=   5.1s\n",
      "[CV 4/5] END max_depth=30, n_estimators=220, random_state=12345;, score=-24.403 total time=   6.9s\n",
      "[CV 5/5] END max_depth=30, n_estimators=220, random_state=12345;, score=-30.879 total time=   8.1s\n",
      "[CV 1/5] END max_depth=30, n_estimators=240, random_state=12345;, score=-22.924 total time=   2.7s\n",
      "[CV 2/5] END max_depth=30, n_estimators=240, random_state=12345;, score=-24.678 total time=   4.2s\n",
      "[CV 3/5] END max_depth=30, n_estimators=240, random_state=12345;, score=-24.360 total time=   5.7s\n",
      "[CV 4/5] END max_depth=30, n_estimators=240, random_state=12345;, score=-24.452 total time=   7.4s\n",
      "[CV 5/5] END max_depth=30, n_estimators=240, random_state=12345;, score=-30.914 total time=   9.0s\n",
      "[CV 1/5] END max_depth=30, n_estimators=260, random_state=12345;, score=-22.927 total time=   2.8s\n",
      "[CV 2/5] END max_depth=30, n_estimators=260, random_state=12345;, score=-24.725 total time=   4.5s\n",
      "[CV 3/5] END max_depth=30, n_estimators=260, random_state=12345;, score=-24.345 total time=   6.2s\n",
      "[CV 4/5] END max_depth=30, n_estimators=260, random_state=12345;, score=-24.450 total time=   7.9s\n",
      "[CV 5/5] END max_depth=30, n_estimators=260, random_state=12345;, score=-30.908 total time=   9.8s\n",
      "[CV 1/5] END max_depth=30, n_estimators=280, random_state=12345;, score=-22.899 total time=   3.0s\n",
      "[CV 2/5] END max_depth=30, n_estimators=280, random_state=12345;, score=-24.743 total time=   4.9s\n",
      "[CV 3/5] END max_depth=30, n_estimators=280, random_state=12345;, score=-24.359 total time=   6.7s\n",
      "[CV 4/5] END max_depth=30, n_estimators=280, random_state=12345;, score=-24.472 total time=   8.6s\n",
      "[CV 5/5] END max_depth=30, n_estimators=280, random_state=12345;, score=-30.885 total time=  10.5s\n",
      "[CV 1/5] END max_depth=30, n_estimators=300, random_state=12345;, score=-22.929 total time=   3.3s\n",
      "[CV 2/5] END max_depth=30, n_estimators=300, random_state=12345;, score=-24.768 total time=   5.3s\n",
      "[CV 3/5] END max_depth=30, n_estimators=300, random_state=12345;, score=-24.371 total time=   5.6s\n",
      "[CV 4/5] END max_depth=30, n_estimators=300, random_state=12345;, score=-24.450 total time=   4.3s\n",
      "[CV 5/5] END max_depth=30, n_estimators=300, random_state=12345;, score=-30.859 total time=   8.7s\n",
      "[CV 1/5] END max_depth=35, n_estimators=80, random_state=12345;, score=-22.893 total time=   1.0s\n",
      "[CV 2/5] END max_depth=35, n_estimators=80, random_state=12345;, score=-24.699 total time=   1.5s\n",
      "[CV 3/5] END max_depth=35, n_estimators=80, random_state=12345;, score=-24.290 total time=   1.9s\n",
      "[CV 4/5] END max_depth=35, n_estimators=80, random_state=12345;, score=-24.359 total time=   2.6s\n",
      "[CV 5/5] END max_depth=35, n_estimators=80, random_state=12345;, score=-30.972 total time=   3.3s\n",
      "[CV 1/5] END max_depth=35, n_estimators=100, random_state=12345;, score=-22.932 total time=   1.3s\n",
      "[CV 2/5] END max_depth=35, n_estimators=100, random_state=12345;, score=-24.742 total time=   2.0s\n",
      "[CV 3/5] END max_depth=35, n_estimators=100, random_state=12345;, score=-24.320 total time=   2.6s\n",
      "[CV 4/5] END max_depth=35, n_estimators=100, random_state=12345;, score=-24.299 total time=   3.3s\n",
      "[CV 5/5] END max_depth=35, n_estimators=100, random_state=12345;, score=-30.948 total time=   4.1s\n",
      "[CV 1/5] END max_depth=35, n_estimators=120, random_state=12345;, score=-22.930 total time=   1.6s\n",
      "[CV 2/5] END max_depth=35, n_estimators=120, random_state=12345;, score=-24.831 total time=   2.7s\n",
      "[CV 3/5] END max_depth=35, n_estimators=120, random_state=12345;, score=-24.353 total time=   3.3s\n",
      "[CV 4/5] END max_depth=35, n_estimators=120, random_state=12345;, score=-24.363 total time=   4.1s\n",
      "[CV 5/5] END max_depth=35, n_estimators=120, random_state=12345;, score=-30.887 total time=   5.1s\n",
      "[CV 1/5] END max_depth=35, n_estimators=140, random_state=12345;, score=-22.923 total time=   1.9s\n",
      "[CV 2/5] END max_depth=35, n_estimators=140, random_state=12345;, score=-24.773 total time=   2.6s\n",
      "[CV 3/5] END max_depth=35, n_estimators=140, random_state=12345;, score=-24.333 total time=   3.7s\n",
      "[CV 4/5] END max_depth=35, n_estimators=140, random_state=12345;, score=-24.431 total time=   4.6s\n",
      "[CV 5/5] END max_depth=35, n_estimators=140, random_state=12345;, score=-30.949 total time=   6.0s\n",
      "[CV 1/5] END max_depth=35, n_estimators=160, random_state=12345;, score=-22.933 total time=   2.1s\n",
      "[CV 2/5] END max_depth=35, n_estimators=160, random_state=12345;, score=-24.680 total time=   3.1s\n",
      "[CV 3/5] END max_depth=35, n_estimators=160, random_state=12345;, score=-24.368 total time=   4.2s\n",
      "[CV 4/5] END max_depth=35, n_estimators=160, random_state=12345;, score=-24.489 total time=   5.5s\n",
      "[CV 5/5] END max_depth=35, n_estimators=160, random_state=12345;, score=-30.889 total time=   6.6s\n",
      "[CV 1/5] END max_depth=35, n_estimators=180, random_state=12345;, score=-22.899 total time=   2.2s\n",
      "[CV 2/5] END max_depth=35, n_estimators=180, random_state=12345;, score=-24.678 total time=   3.6s\n",
      "[CV 3/5] END max_depth=35, n_estimators=180, random_state=12345;, score=-24.291 total time=   4.6s\n",
      "[CV 4/5] END max_depth=35, n_estimators=180, random_state=12345;, score=-24.416 total time=   6.2s\n",
      "[CV 5/5] END max_depth=35, n_estimators=180, random_state=12345;, score=-30.910 total time=   7.6s\n",
      "[CV 1/5] END max_depth=35, n_estimators=200, random_state=12345;, score=-22.906 total time=   2.6s\n",
      "[CV 2/5] END max_depth=35, n_estimators=200, random_state=12345;, score=-24.710 total time=   3.7s\n",
      "[CV 3/5] END max_depth=35, n_estimators=200, random_state=12345;, score=-24.304 total time=   5.4s\n",
      "[CV 4/5] END max_depth=35, n_estimators=200, random_state=12345;, score=-24.421 total time=   6.9s\n",
      "[CV 5/5] END max_depth=35, n_estimators=200, random_state=12345;, score=-30.868 total time=   8.2s\n",
      "[CV 1/5] END max_depth=35, n_estimators=220, random_state=12345;, score=-22.909 total time=   2.9s\n",
      "[CV 2/5] END max_depth=35, n_estimators=220, random_state=12345;, score=-24.647 total time=   4.7s\n",
      "[CV 3/5] END max_depth=35, n_estimators=220, random_state=12345;, score=-24.330 total time=   5.9s\n",
      "[CV 4/5] END max_depth=35, n_estimators=220, random_state=12345;, score=-24.403 total time=   8.1s\n",
      "[CV 5/5] END max_depth=35, n_estimators=220, random_state=12345;, score=-30.879 total time=   9.3s\n",
      "[CV 1/5] END max_depth=35, n_estimators=240, random_state=12345;, score=-22.924 total time=   3.3s\n",
      "[CV 2/5] END max_depth=35, n_estimators=240, random_state=12345;, score=-24.678 total time=   4.6s\n",
      "[CV 3/5] END max_depth=35, n_estimators=240, random_state=12345;, score=-24.360 total time=   5.8s\n",
      "[CV 4/5] END max_depth=35, n_estimators=240, random_state=12345;, score=-24.452 total time=   7.5s\n",
      "[CV 5/5] END max_depth=35, n_estimators=240, random_state=12345;, score=-30.914 total time=   8.9s\n",
      "[CV 1/5] END max_depth=35, n_estimators=260, random_state=12345;, score=-22.927 total time=   3.0s\n",
      "[CV 2/5] END max_depth=35, n_estimators=260, random_state=12345;, score=-24.725 total time=   4.5s\n",
      "[CV 3/5] END max_depth=35, n_estimators=260, random_state=12345;, score=-24.345 total time=   6.9s\n",
      "[CV 4/5] END max_depth=35, n_estimators=260, random_state=12345;, score=-24.450 total time=   8.9s\n",
      "[CV 5/5] END max_depth=35, n_estimators=260, random_state=12345;, score=-30.908 total time=  11.0s\n",
      "[CV 1/5] END max_depth=35, n_estimators=280, random_state=12345;, score=-22.899 total time=   3.8s\n",
      "[CV 2/5] END max_depth=35, n_estimators=280, random_state=12345;, score=-24.743 total time=   5.2s\n",
      "[CV 3/5] END max_depth=35, n_estimators=280, random_state=12345;, score=-24.359 total time=   7.1s\n",
      "[CV 4/5] END max_depth=35, n_estimators=280, random_state=12345;, score=-24.472 total time=   9.1s\n",
      "[CV 5/5] END max_depth=35, n_estimators=280, random_state=12345;, score=-30.885 total time=   5.2s\n",
      "[CV 1/5] END max_depth=35, n_estimators=300, random_state=12345;, score=-22.929 total time=   1.7s\n",
      "[CV 2/5] END max_depth=35, n_estimators=300, random_state=12345;, score=-24.768 total time=   2.4s\n",
      "[CV 3/5] END max_depth=35, n_estimators=300, random_state=12345;, score=-24.371 total time=   5.3s\n",
      "[CV 4/5] END max_depth=35, n_estimators=300, random_state=12345;, score=-24.450 total time=   9.7s\n",
      "[CV 5/5] END max_depth=35, n_estimators=300, random_state=12345;, score=-30.859 total time=  11.9s\n"
     ]
    },
    {
     "data": {
      "text/html": [
       "<style>#sk-container-id-1 {color: black;background-color: white;}#sk-container-id-1 pre{padding: 0;}#sk-container-id-1 div.sk-toggleable {background-color: white;}#sk-container-id-1 label.sk-toggleable__label {cursor: pointer;display: block;width: 100%;margin-bottom: 0;padding: 0.3em;box-sizing: border-box;text-align: center;}#sk-container-id-1 label.sk-toggleable__label-arrow:before {content: \"▸\";float: left;margin-right: 0.25em;color: #696969;}#sk-container-id-1 label.sk-toggleable__label-arrow:hover:before {color: black;}#sk-container-id-1 div.sk-estimator:hover label.sk-toggleable__label-arrow:before {color: black;}#sk-container-id-1 div.sk-toggleable__content {max-height: 0;max-width: 0;overflow: hidden;text-align: left;background-color: #f0f8ff;}#sk-container-id-1 div.sk-toggleable__content pre {margin: 0.2em;color: black;border-radius: 0.25em;background-color: #f0f8ff;}#sk-container-id-1 input.sk-toggleable__control:checked~div.sk-toggleable__content {max-height: 200px;max-width: 100%;overflow: auto;}#sk-container-id-1 input.sk-toggleable__control:checked~label.sk-toggleable__label-arrow:before {content: \"▾\";}#sk-container-id-1 div.sk-estimator input.sk-toggleable__control:checked~label.sk-toggleable__label {background-color: #d4ebff;}#sk-container-id-1 div.sk-label input.sk-toggleable__control:checked~label.sk-toggleable__label {background-color: #d4ebff;}#sk-container-id-1 input.sk-hidden--visually {border: 0;clip: rect(1px 1px 1px 1px);clip: rect(1px, 1px, 1px, 1px);height: 1px;margin: -1px;overflow: hidden;padding: 0;position: absolute;width: 1px;}#sk-container-id-1 div.sk-estimator {font-family: monospace;background-color: #f0f8ff;border: 1px dotted black;border-radius: 0.25em;box-sizing: border-box;margin-bottom: 0.5em;}#sk-container-id-1 div.sk-estimator:hover {background-color: #d4ebff;}#sk-container-id-1 div.sk-parallel-item::after {content: \"\";width: 100%;border-bottom: 1px solid gray;flex-grow: 1;}#sk-container-id-1 div.sk-label:hover label.sk-toggleable__label {background-color: #d4ebff;}#sk-container-id-1 div.sk-serial::before {content: \"\";position: absolute;border-left: 1px solid gray;box-sizing: border-box;top: 0;bottom: 0;left: 50%;z-index: 0;}#sk-container-id-1 div.sk-serial {display: flex;flex-direction: column;align-items: center;background-color: white;padding-right: 0.2em;padding-left: 0.2em;position: relative;}#sk-container-id-1 div.sk-item {position: relative;z-index: 1;}#sk-container-id-1 div.sk-parallel {display: flex;align-items: stretch;justify-content: center;background-color: white;position: relative;}#sk-container-id-1 div.sk-item::before, #sk-container-id-1 div.sk-parallel-item::before {content: \"\";position: absolute;border-left: 1px solid gray;box-sizing: border-box;top: 0;bottom: 0;left: 50%;z-index: -1;}#sk-container-id-1 div.sk-parallel-item {display: flex;flex-direction: column;z-index: 1;position: relative;background-color: white;}#sk-container-id-1 div.sk-parallel-item:first-child::after {align-self: flex-end;width: 50%;}#sk-container-id-1 div.sk-parallel-item:last-child::after {align-self: flex-start;width: 50%;}#sk-container-id-1 div.sk-parallel-item:only-child::after {width: 0;}#sk-container-id-1 div.sk-dashed-wrapped {border: 1px dashed gray;margin: 0 0.4em 0.5em 0.4em;box-sizing: border-box;padding-bottom: 0.4em;background-color: white;}#sk-container-id-1 div.sk-label label {font-family: monospace;font-weight: bold;display: inline-block;line-height: 1.2em;}#sk-container-id-1 div.sk-label-container {text-align: center;}#sk-container-id-1 div.sk-container {/* jupyter's `normalize.less` sets `[hidden] { display: none; }` but bootstrap.min.css set `[hidden] { display: none !important; }` so we also need the `!important` here to be able to override the default hidden behavior on the sphinx rendered scikit-learn.org. See: https://github.com/scikit-learn/scikit-learn/issues/21755 */display: inline-block !important;position: relative;}#sk-container-id-1 div.sk-text-repr-fallback {display: none;}</style><div id=\"sk-container-id-1\" class=\"sk-top-container\"><div class=\"sk-text-repr-fallback\"><pre>GridSearchCV(cv=TimeSeriesSplit(gap=0, max_train_size=None, n_splits=5, test_size=None),\n",
       "             estimator=RandomForestRegressor(),\n",
       "             param_grid={&#x27;max_depth&#x27;: range(5, 36, 5),\n",
       "                         &#x27;n_estimators&#x27;: range(80, 301, 20),\n",
       "                         &#x27;random_state&#x27;: [12345]},\n",
       "             scoring=make_scorer(mean_squared_error, greater_is_better=False, squared=False),\n",
       "             verbose=3)</pre><b>In a Jupyter environment, please rerun this cell to show the HTML representation or trust the notebook. <br />On GitHub, the HTML representation is unable to render, please try loading this page with nbviewer.org.</b></div><div class=\"sk-container\" hidden><div class=\"sk-item sk-dashed-wrapped\"><div class=\"sk-label-container\"><div class=\"sk-label sk-toggleable\"><input class=\"sk-toggleable__control sk-hidden--visually\" id=\"sk-estimator-id-1\" type=\"checkbox\" ><label for=\"sk-estimator-id-1\" class=\"sk-toggleable__label sk-toggleable__label-arrow\">GridSearchCV</label><div class=\"sk-toggleable__content\"><pre>GridSearchCV(cv=TimeSeriesSplit(gap=0, max_train_size=None, n_splits=5, test_size=None),\n",
       "             estimator=RandomForestRegressor(),\n",
       "             param_grid={&#x27;max_depth&#x27;: range(5, 36, 5),\n",
       "                         &#x27;n_estimators&#x27;: range(80, 301, 20),\n",
       "                         &#x27;random_state&#x27;: [12345]},\n",
       "             scoring=make_scorer(mean_squared_error, greater_is_better=False, squared=False),\n",
       "             verbose=3)</pre></div></div></div><div class=\"sk-parallel\"><div class=\"sk-parallel-item\"><div class=\"sk-item\"><div class=\"sk-label-container\"><div class=\"sk-label sk-toggleable\"><input class=\"sk-toggleable__control sk-hidden--visually\" id=\"sk-estimator-id-2\" type=\"checkbox\" ><label for=\"sk-estimator-id-2\" class=\"sk-toggleable__label sk-toggleable__label-arrow\">estimator: RandomForestRegressor</label><div class=\"sk-toggleable__content\"><pre>RandomForestRegressor()</pre></div></div></div><div class=\"sk-serial\"><div class=\"sk-item\"><div class=\"sk-estimator sk-toggleable\"><input class=\"sk-toggleable__control sk-hidden--visually\" id=\"sk-estimator-id-3\" type=\"checkbox\" ><label for=\"sk-estimator-id-3\" class=\"sk-toggleable__label sk-toggleable__label-arrow\">RandomForestRegressor</label><div class=\"sk-toggleable__content\"><pre>RandomForestRegressor()</pre></div></div></div></div></div></div></div></div></div></div>"
      ],
      "text/plain": [
       "GridSearchCV(cv=TimeSeriesSplit(gap=0, max_train_size=None, n_splits=5, test_size=None),\n",
       "             estimator=RandomForestRegressor(),\n",
       "             param_grid={'max_depth': range(5, 36, 5),\n",
       "                         'n_estimators': range(80, 301, 20),\n",
       "                         'random_state': [12345]},\n",
       "             scoring=make_scorer(mean_squared_error, greater_is_better=False, squared=False),\n",
       "             verbose=3)"
      ]
     },
     "execution_count": 26,
     "metadata": {},
     "output_type": "execute_result"
    }
   ],
   "source": [
    "grid.fit(features_train, target_train)"
   ]
  },
  {
   "cell_type": "markdown",
   "id": "176d0dbf",
   "metadata": {},
   "source": [
    "Выведем результаты гридсерча - параметры лучшей модели и ее средний результат при кросс-валидации:"
   ]
  },
  {
   "cell_type": "code",
   "execution_count": 27,
   "id": "73b9be5a",
   "metadata": {},
   "outputs": [
    {
     "name": "stdout",
     "output_type": "stream",
     "text": [
      "{'max_depth': 30, 'n_estimators': 220, 'random_state': 12345}\n",
      "25.433555633679056\n"
     ]
    }
   ],
   "source": [
    "print(grid.best_params_)\n",
    "print(abs(grid.best_score_))"
   ]
  },
  {
   "cell_type": "markdown",
   "id": "b07a6748",
   "metadata": {},
   "source": [
    "Параметры лучшей модели - max_depth: 30, и n_estimators: 220. Средний результат модели с этими параметрами при кросс-валидации - 25.4, что удовлетворяет потребностям заказчика и превосходит результат модели линейной регрессии. "
   ]
  },
  {
   "cell_type": "markdown",
   "id": "d87212ad",
   "metadata": {},
   "source": [
    "Теперь обучим модель **LGBMRegressor** из библиотеки **LightGBM**:"
   ]
  },
  {
   "cell_type": "code",
   "execution_count": 28,
   "id": "f7c10617",
   "metadata": {},
   "outputs": [],
   "source": [
    "model = LGBMRegressor(\n",
    "    boosting_type='gbdt',\n",
    "    num_leaves=31,\n",
    "    max_depth=-1,\n",
    "    learning_rate=0.1,\n",
    "    n_estimators=100,\n",
    "    objective='regression',\n",
    "    min_split_gain=0.0,\n",
    "    min_child_samples=20,\n",
    "    subsample=1.0,\n",
    "    subsample_freq=0,\n",
    "    colsample_bytree=1.0,\n",
    "    reg_alpha=0.0,\n",
    "    reg_lambda=0.0,\n",
    "    random_state=None\n",
    ")"
   ]
  },
  {
   "cell_type": "markdown",
   "id": "8c1cc4ac",
   "metadata": {},
   "source": [
    "Проведем кросс-валидацию нашей модели:"
   ]
  },
  {
   "cell_type": "code",
   "execution_count": 29,
   "id": "ea1d05d3",
   "metadata": {},
   "outputs": [],
   "source": [
    "scores = cross_val_score(model, features_train, target_train, scoring=rmse, cv=tscv)"
   ]
  },
  {
   "cell_type": "markdown",
   "id": "672561ed",
   "metadata": {},
   "source": [
    "Получим результаты работы модели на каждом шаге кросс-валидации и их среднее:"
   ]
  },
  {
   "cell_type": "code",
   "execution_count": 30,
   "id": "715194ea",
   "metadata": {},
   "outputs": [
    {
     "name": "stdout",
     "output_type": "stream",
     "text": [
      "[22.8547581  24.07500665 23.87623927 25.19929752 30.19764373]\n",
      "25.240589055087934\n"
     ]
    }
   ],
   "source": [
    "print(abs(scores))\n",
    "print(abs(scores).mean())"
   ]
  },
  {
   "cell_type": "markdown",
   "id": "f48a6cad",
   "metadata": {},
   "source": [
    "Видим, что модель уже показывает лучший по сравнению с моделью случайного леса результат - RMSE равно 25.2. Проведем гридсерч по нескольким параметрам:"
   ]
  },
  {
   "cell_type": "code",
   "execution_count": 31,
   "id": "a6d27b3f",
   "metadata": {},
   "outputs": [],
   "source": [
    "parameters = {\n",
    "              'max_depth': range(10, 31, 10),\n",
    "              'learning_rate': [0.1, 0.2],\n",
    "              'n_estimators': range(40, 201, 40)\n",
    "}\n",
    "\n",
    "grid = GridSearchCV(model, parameters, scoring=rmse, cv=tscv, verbose=3)"
   ]
  },
  {
   "cell_type": "code",
   "execution_count": 32,
   "id": "19ebbdbd",
   "metadata": {
    "scrolled": true
   },
   "outputs": [
    {
     "name": "stdout",
     "output_type": "stream",
     "text": [
      "Fitting 5 folds for each of 30 candidates, totalling 150 fits\n",
      "[CV 1/5] END learning_rate=0.1, max_depth=10, n_estimators=40;, score=-22.549 total time=   0.0s\n",
      "[CV 2/5] END learning_rate=0.1, max_depth=10, n_estimators=40;, score=-23.748 total time=   0.1s\n",
      "[CV 3/5] END learning_rate=0.1, max_depth=10, n_estimators=40;, score=-23.657 total time=   0.1s\n",
      "[CV 4/5] END learning_rate=0.1, max_depth=10, n_estimators=40;, score=-24.859 total time=   0.1s\n",
      "[CV 5/5] END learning_rate=0.1, max_depth=10, n_estimators=40;, score=-31.738 total time=   0.1s\n",
      "[CV 1/5] END learning_rate=0.1, max_depth=10, n_estimators=80;, score=-22.790 total time=   0.1s\n",
      "[CV 2/5] END learning_rate=0.1, max_depth=10, n_estimators=80;, score=-23.990 total time=   0.1s\n",
      "[CV 3/5] END learning_rate=0.1, max_depth=10, n_estimators=80;, score=-23.578 total time=   0.1s\n",
      "[CV 4/5] END learning_rate=0.1, max_depth=10, n_estimators=80;, score=-24.923 total time=   0.2s\n",
      "[CV 5/5] END learning_rate=0.1, max_depth=10, n_estimators=80;, score=-30.295 total time=   0.2s\n",
      "[CV 1/5] END learning_rate=0.1, max_depth=10, n_estimators=120;, score=-22.958 total time=   0.1s\n",
      "[CV 2/5] END learning_rate=0.1, max_depth=10, n_estimators=120;, score=-24.183 total time=   0.4s\n",
      "[CV 3/5] END learning_rate=0.1, max_depth=10, n_estimators=120;, score=-23.886 total time=   0.4s\n",
      "[CV 4/5] END learning_rate=0.1, max_depth=10, n_estimators=120;, score=-25.357 total time=   0.5s\n",
      "[CV 5/5] END learning_rate=0.1, max_depth=10, n_estimators=120;, score=-30.093 total time=   0.5s\n",
      "[CV 1/5] END learning_rate=0.1, max_depth=10, n_estimators=160;, score=-23.251 total time=   0.4s\n",
      "[CV 2/5] END learning_rate=0.1, max_depth=10, n_estimators=160;, score=-24.397 total time=   0.4s\n",
      "[CV 3/5] END learning_rate=0.1, max_depth=10, n_estimators=160;, score=-24.095 total time=   0.5s\n",
      "[CV 4/5] END learning_rate=0.1, max_depth=10, n_estimators=160;, score=-25.618 total time=   0.5s\n",
      "[CV 5/5] END learning_rate=0.1, max_depth=10, n_estimators=160;, score=-30.023 total time=   0.5s\n",
      "[CV 1/5] END learning_rate=0.1, max_depth=10, n_estimators=200;, score=-23.389 total time=   0.4s\n",
      "[CV 2/5] END learning_rate=0.1, max_depth=10, n_estimators=200;, score=-24.455 total time=   0.6s\n",
      "[CV 3/5] END learning_rate=0.1, max_depth=10, n_estimators=200;, score=-24.246 total time=   0.6s\n",
      "[CV 4/5] END learning_rate=0.1, max_depth=10, n_estimators=200;, score=-25.769 total time=   0.7s\n",
      "[CV 5/5] END learning_rate=0.1, max_depth=10, n_estimators=200;, score=-30.183 total time=   0.7s\n",
      "[CV 1/5] END learning_rate=0.1, max_depth=20, n_estimators=40;, score=-22.448 total time=   0.1s\n",
      "[CV 2/5] END learning_rate=0.1, max_depth=20, n_estimators=40;, score=-23.677 total time=   0.1s\n",
      "[CV 3/5] END learning_rate=0.1, max_depth=20, n_estimators=40;, score=-23.696 total time=   0.1s\n",
      "[CV 4/5] END learning_rate=0.1, max_depth=20, n_estimators=40;, score=-25.171 total time=   0.1s\n",
      "[CV 5/5] END learning_rate=0.1, max_depth=20, n_estimators=40;, score=-31.614 total time=   0.1s\n",
      "[CV 1/5] END learning_rate=0.1, max_depth=20, n_estimators=80;, score=-22.719 total time=   0.3s\n",
      "[CV 2/5] END learning_rate=0.1, max_depth=20, n_estimators=80;, score=-24.003 total time=   0.4s\n",
      "[CV 3/5] END learning_rate=0.1, max_depth=20, n_estimators=80;, score=-23.715 total time=   0.3s\n",
      "[CV 4/5] END learning_rate=0.1, max_depth=20, n_estimators=80;, score=-25.166 total time=   0.3s\n",
      "[CV 5/5] END learning_rate=0.1, max_depth=20, n_estimators=80;, score=-30.289 total time=   0.3s\n",
      "[CV 1/5] END learning_rate=0.1, max_depth=20, n_estimators=120;, score=-22.986 total time=   0.4s\n",
      "[CV 2/5] END learning_rate=0.1, max_depth=20, n_estimators=120;, score=-24.239 total time=   0.5s\n",
      "[CV 3/5] END learning_rate=0.1, max_depth=20, n_estimators=120;, score=-23.970 total time=   0.4s\n",
      "[CV 4/5] END learning_rate=0.1, max_depth=20, n_estimators=120;, score=-25.333 total time=   0.5s\n",
      "[CV 5/5] END learning_rate=0.1, max_depth=20, n_estimators=120;, score=-30.017 total time=   0.4s\n",
      "[CV 1/5] END learning_rate=0.1, max_depth=20, n_estimators=160;, score=-23.218 total time=   0.4s\n",
      "[CV 2/5] END learning_rate=0.1, max_depth=20, n_estimators=160;, score=-24.441 total time=   0.5s\n",
      "[CV 3/5] END learning_rate=0.1, max_depth=20, n_estimators=160;, score=-24.199 total time=   0.5s\n",
      "[CV 4/5] END learning_rate=0.1, max_depth=20, n_estimators=160;, score=-25.583 total time=   1.0s\n",
      "[CV 5/5] END learning_rate=0.1, max_depth=20, n_estimators=160;, score=-30.112 total time=   1.0s\n",
      "[CV 1/5] END learning_rate=0.1, max_depth=20, n_estimators=200;, score=-23.416 total time=   0.6s\n",
      "[CV 2/5] END learning_rate=0.1, max_depth=20, n_estimators=200;, score=-24.656 total time=   0.8s\n",
      "[CV 3/5] END learning_rate=0.1, max_depth=20, n_estimators=200;, score=-24.364 total time=   0.8s\n",
      "[CV 4/5] END learning_rate=0.1, max_depth=20, n_estimators=200;, score=-25.812 total time=   0.8s\n",
      "[CV 5/5] END learning_rate=0.1, max_depth=20, n_estimators=200;, score=-30.250 total time=   0.9s\n",
      "[CV 1/5] END learning_rate=0.1, max_depth=30, n_estimators=40;, score=-22.448 total time=   0.1s\n",
      "[CV 2/5] END learning_rate=0.1, max_depth=30, n_estimators=40;, score=-23.677 total time=   0.1s\n",
      "[CV 3/5] END learning_rate=0.1, max_depth=30, n_estimators=40;, score=-23.696 total time=   0.1s\n",
      "[CV 4/5] END learning_rate=0.1, max_depth=30, n_estimators=40;, score=-25.171 total time=   0.2s\n",
      "[CV 5/5] END learning_rate=0.1, max_depth=30, n_estimators=40;, score=-31.614 total time=   0.1s\n",
      "[CV 1/5] END learning_rate=0.1, max_depth=30, n_estimators=80;, score=-22.719 total time=   0.2s\n",
      "[CV 2/5] END learning_rate=0.1, max_depth=30, n_estimators=80;, score=-24.029 total time=   0.3s\n",
      "[CV 3/5] END learning_rate=0.1, max_depth=30, n_estimators=80;, score=-23.715 total time=   0.3s\n",
      "[CV 4/5] END learning_rate=0.1, max_depth=30, n_estimators=80;, score=-25.166 total time=   0.3s\n",
      "[CV 5/5] END learning_rate=0.1, max_depth=30, n_estimators=80;, score=-30.289 total time=   0.3s\n",
      "[CV 1/5] END learning_rate=0.1, max_depth=30, n_estimators=120;, score=-22.986 total time=   0.3s\n",
      "[CV 2/5] END learning_rate=0.1, max_depth=30, n_estimators=120;, score=-24.243 total time=   0.5s\n",
      "[CV 3/5] END learning_rate=0.1, max_depth=30, n_estimators=120;, score=-24.005 total time=   0.4s\n",
      "[CV 4/5] END learning_rate=0.1, max_depth=30, n_estimators=120;, score=-25.339 total time=   0.6s\n",
      "[CV 5/5] END learning_rate=0.1, max_depth=30, n_estimators=120;, score=-30.017 total time=   0.4s\n",
      "[CV 1/5] END learning_rate=0.1, max_depth=30, n_estimators=160;, score=-23.197 total time=   0.4s\n",
      "[CV 2/5] END learning_rate=0.1, max_depth=30, n_estimators=160;, score=-24.506 total time=   0.5s\n",
      "[CV 3/5] END learning_rate=0.1, max_depth=30, n_estimators=160;, score=-24.311 total time=   0.4s\n",
      "[CV 4/5] END learning_rate=0.1, max_depth=30, n_estimators=160;, score=-25.570 total time=   0.3s\n",
      "[CV 5/5] END learning_rate=0.1, max_depth=30, n_estimators=160;, score=-30.112 total time=   0.3s\n",
      "[CV 1/5] END learning_rate=0.1, max_depth=30, n_estimators=200;, score=-23.496 total time=   0.3s\n",
      "[CV 2/5] END learning_rate=0.1, max_depth=30, n_estimators=200;, score=-24.723 total time=   0.4s\n",
      "[CV 3/5] END learning_rate=0.1, max_depth=30, n_estimators=200;, score=-24.462 total time=   0.7s\n",
      "[CV 4/5] END learning_rate=0.1, max_depth=30, n_estimators=200;, score=-25.819 total time=   0.8s\n",
      "[CV 5/5] END learning_rate=0.1, max_depth=30, n_estimators=200;, score=-30.205 total time=   0.9s\n",
      "[CV 1/5] END learning_rate=0.2, max_depth=10, n_estimators=40;, score=-22.942 total time=   0.0s\n",
      "[CV 2/5] END learning_rate=0.2, max_depth=10, n_estimators=40;, score=-24.070 total time=   0.1s\n",
      "[CV 3/5] END learning_rate=0.2, max_depth=10, n_estimators=40;, score=-23.496 total time=   0.1s\n",
      "[CV 4/5] END learning_rate=0.2, max_depth=10, n_estimators=40;, score=-24.761 total time=   0.1s\n",
      "[CV 5/5] END learning_rate=0.2, max_depth=10, n_estimators=40;, score=-30.286 total time=   0.1s\n",
      "[CV 1/5] END learning_rate=0.2, max_depth=10, n_estimators=80;, score=-23.169 total time=   0.1s\n",
      "[CV 2/5] END learning_rate=0.2, max_depth=10, n_estimators=80;, score=-24.403 total time=   0.2s\n",
      "[CV 3/5] END learning_rate=0.2, max_depth=10, n_estimators=80;, score=-24.257 total time=   0.2s\n",
      "[CV 4/5] END learning_rate=0.2, max_depth=10, n_estimators=80;, score=-25.178 total time=   0.2s\n",
      "[CV 5/5] END learning_rate=0.2, max_depth=10, n_estimators=80;, score=-30.498 total time=   0.3s\n",
      "[CV 1/5] END learning_rate=0.2, max_depth=10, n_estimators=120;, score=-23.420 total time=   0.2s\n",
      "[CV 2/5] END learning_rate=0.2, max_depth=10, n_estimators=120;, score=-24.762 total time=   0.4s\n",
      "[CV 3/5] END learning_rate=0.2, max_depth=10, n_estimators=120;, score=-24.595 total time=   0.3s\n",
      "[CV 4/5] END learning_rate=0.2, max_depth=10, n_estimators=120;, score=-25.649 total time=   0.4s\n",
      "[CV 5/5] END learning_rate=0.2, max_depth=10, n_estimators=120;, score=-30.547 total time=   0.4s\n",
      "[CV 1/5] END learning_rate=0.2, max_depth=10, n_estimators=160;, score=-23.713 total time=   0.4s\n",
      "[CV 2/5] END learning_rate=0.2, max_depth=10, n_estimators=160;, score=-24.910 total time=   0.4s\n",
      "[CV 3/5] END learning_rate=0.2, max_depth=10, n_estimators=160;, score=-24.738 total time=   0.5s\n",
      "[CV 4/5] END learning_rate=0.2, max_depth=10, n_estimators=160;, score=-25.967 total time=   0.5s\n",
      "[CV 5/5] END learning_rate=0.2, max_depth=10, n_estimators=160;, score=-30.859 total time=   0.6s\n",
      "[CV 1/5] END learning_rate=0.2, max_depth=10, n_estimators=200;, score=-23.865 total time=   0.3s\n",
      "[CV 2/5] END learning_rate=0.2, max_depth=10, n_estimators=200;, score=-25.083 total time=   0.3s\n",
      "[CV 3/5] END learning_rate=0.2, max_depth=10, n_estimators=200;, score=-25.021 total time=   0.3s\n",
      "[CV 4/5] END learning_rate=0.2, max_depth=10, n_estimators=200;, score=-26.327 total time=   0.3s\n",
      "[CV 5/5] END learning_rate=0.2, max_depth=10, n_estimators=200;, score=-30.908 total time=   0.5s\n",
      "[CV 1/5] END learning_rate=0.2, max_depth=20, n_estimators=40;, score=-22.725 total time=   0.1s\n",
      "[CV 2/5] END learning_rate=0.2, max_depth=20, n_estimators=40;, score=-24.248 total time=   0.0s\n",
      "[CV 3/5] END learning_rate=0.2, max_depth=20, n_estimators=40;, score=-24.024 total time=   0.1s\n",
      "[CV 4/5] END learning_rate=0.2, max_depth=20, n_estimators=40;, score=-25.443 total time=   0.1s\n",
      "[CV 5/5] END learning_rate=0.2, max_depth=20, n_estimators=40;, score=-30.789 total time=   0.1s\n",
      "[CV 1/5] END learning_rate=0.2, max_depth=20, n_estimators=80;, score=-23.232 total time=   0.1s\n",
      "[CV 2/5] END learning_rate=0.2, max_depth=20, n_estimators=80;, score=-24.680 total time=   0.1s\n",
      "[CV 3/5] END learning_rate=0.2, max_depth=20, n_estimators=80;, score=-24.564 total time=   0.1s\n",
      "[CV 4/5] END learning_rate=0.2, max_depth=20, n_estimators=80;, score=-25.717 total time=   0.1s\n",
      "[CV 5/5] END learning_rate=0.2, max_depth=20, n_estimators=80;, score=-30.395 total time=   0.1s\n",
      "[CV 1/5] END learning_rate=0.2, max_depth=20, n_estimators=120;, score=-23.661 total time=   0.1s\n",
      "[CV 2/5] END learning_rate=0.2, max_depth=20, n_estimators=120;, score=-25.016 total time=   0.2s\n",
      "[CV 3/5] END learning_rate=0.2, max_depth=20, n_estimators=120;, score=-24.960 total time=   0.2s\n",
      "[CV 4/5] END learning_rate=0.2, max_depth=20, n_estimators=120;, score=-26.287 total time=   0.2s\n",
      "[CV 5/5] END learning_rate=0.2, max_depth=20, n_estimators=120;, score=-30.526 total time=   0.2s\n",
      "[CV 1/5] END learning_rate=0.2, max_depth=20, n_estimators=160;, score=-23.884 total time=   0.4s\n",
      "[CV 2/5] END learning_rate=0.2, max_depth=20, n_estimators=160;, score=-25.219 total time=   0.5s\n",
      "[CV 3/5] END learning_rate=0.2, max_depth=20, n_estimators=160;, score=-25.345 total time=   0.5s\n",
      "[CV 4/5] END learning_rate=0.2, max_depth=20, n_estimators=160;, score=-26.486 total time=   0.6s\n",
      "[CV 5/5] END learning_rate=0.2, max_depth=20, n_estimators=160;, score=-30.683 total time=   0.5s\n",
      "[CV 1/5] END learning_rate=0.2, max_depth=20, n_estimators=200;, score=-24.095 total time=   0.5s\n",
      "[CV 2/5] END learning_rate=0.2, max_depth=20, n_estimators=200;, score=-25.365 total time=   0.7s\n",
      "[CV 3/5] END learning_rate=0.2, max_depth=20, n_estimators=200;, score=-25.575 total time=   0.7s\n",
      "[CV 4/5] END learning_rate=0.2, max_depth=20, n_estimators=200;, score=-26.705 total time=   0.7s\n",
      "[CV 5/5] END learning_rate=0.2, max_depth=20, n_estimators=200;, score=-30.703 total time=   0.8s\n",
      "[CV 1/5] END learning_rate=0.2, max_depth=30, n_estimators=40;, score=-22.725 total time=   0.1s\n",
      "[CV 2/5] END learning_rate=0.2, max_depth=30, n_estimators=40;, score=-24.248 total time=   0.1s\n",
      "[CV 3/5] END learning_rate=0.2, max_depth=30, n_estimators=40;, score=-24.024 total time=   0.1s\n",
      "[CV 4/5] END learning_rate=0.2, max_depth=30, n_estimators=40;, score=-25.443 total time=   0.1s\n",
      "[CV 5/5] END learning_rate=0.2, max_depth=30, n_estimators=40;, score=-30.789 total time=   0.1s\n",
      "[CV 1/5] END learning_rate=0.2, max_depth=30, n_estimators=80;, score=-23.232 total time=   0.2s\n",
      "[CV 2/5] END learning_rate=0.2, max_depth=30, n_estimators=80;, score=-24.698 total time=   0.2s\n",
      "[CV 3/5] END learning_rate=0.2, max_depth=30, n_estimators=80;, score=-24.576 total time=   0.2s\n",
      "[CV 4/5] END learning_rate=0.2, max_depth=30, n_estimators=80;, score=-25.762 total time=   0.3s\n",
      "[CV 5/5] END learning_rate=0.2, max_depth=30, n_estimators=80;, score=-30.395 total time=   0.3s\n",
      "[CV 1/5] END learning_rate=0.2, max_depth=30, n_estimators=120;, score=-23.660 total time=   0.2s\n",
      "[CV 2/5] END learning_rate=0.2, max_depth=30, n_estimators=120;, score=-24.953 total time=   0.3s\n",
      "[CV 3/5] END learning_rate=0.2, max_depth=30, n_estimators=120;, score=-24.858 total time=   0.2s\n",
      "[CV 4/5] END learning_rate=0.2, max_depth=30, n_estimators=120;, score=-26.057 total time=   0.2s\n",
      "[CV 5/5] END learning_rate=0.2, max_depth=30, n_estimators=120;, score=-30.584 total time=   0.2s\n",
      "[CV 1/5] END learning_rate=0.2, max_depth=30, n_estimators=160;, score=-23.762 total time=   0.2s\n",
      "[CV 2/5] END learning_rate=0.2, max_depth=30, n_estimators=160;, score=-25.129 total time=   0.3s\n",
      "[CV 3/5] END learning_rate=0.2, max_depth=30, n_estimators=160;, score=-25.242 total time=   0.3s\n",
      "[CV 4/5] END learning_rate=0.2, max_depth=30, n_estimators=160;, score=-26.332 total time=   0.3s\n",
      "[CV 5/5] END learning_rate=0.2, max_depth=30, n_estimators=160;, score=-30.724 total time=   0.3s\n",
      "[CV 1/5] END learning_rate=0.2, max_depth=30, n_estimators=200;, score=-24.043 total time=   0.3s\n",
      "[CV 2/5] END learning_rate=0.2, max_depth=30, n_estimators=200;, score=-25.445 total time=   0.4s\n",
      "[CV 3/5] END learning_rate=0.2, max_depth=30, n_estimators=200;, score=-25.575 total time=   0.4s\n",
      "[CV 4/5] END learning_rate=0.2, max_depth=30, n_estimators=200;, score=-26.579 total time=   0.5s\n",
      "[CV 5/5] END learning_rate=0.2, max_depth=30, n_estimators=200;, score=-30.968 total time=   0.4s\n"
     ]
    },
    {
     "data": {
      "text/html": [
       "<style>#sk-container-id-2 {color: black;background-color: white;}#sk-container-id-2 pre{padding: 0;}#sk-container-id-2 div.sk-toggleable {background-color: white;}#sk-container-id-2 label.sk-toggleable__label {cursor: pointer;display: block;width: 100%;margin-bottom: 0;padding: 0.3em;box-sizing: border-box;text-align: center;}#sk-container-id-2 label.sk-toggleable__label-arrow:before {content: \"▸\";float: left;margin-right: 0.25em;color: #696969;}#sk-container-id-2 label.sk-toggleable__label-arrow:hover:before {color: black;}#sk-container-id-2 div.sk-estimator:hover label.sk-toggleable__label-arrow:before {color: black;}#sk-container-id-2 div.sk-toggleable__content {max-height: 0;max-width: 0;overflow: hidden;text-align: left;background-color: #f0f8ff;}#sk-container-id-2 div.sk-toggleable__content pre {margin: 0.2em;color: black;border-radius: 0.25em;background-color: #f0f8ff;}#sk-container-id-2 input.sk-toggleable__control:checked~div.sk-toggleable__content {max-height: 200px;max-width: 100%;overflow: auto;}#sk-container-id-2 input.sk-toggleable__control:checked~label.sk-toggleable__label-arrow:before {content: \"▾\";}#sk-container-id-2 div.sk-estimator input.sk-toggleable__control:checked~label.sk-toggleable__label {background-color: #d4ebff;}#sk-container-id-2 div.sk-label input.sk-toggleable__control:checked~label.sk-toggleable__label {background-color: #d4ebff;}#sk-container-id-2 input.sk-hidden--visually {border: 0;clip: rect(1px 1px 1px 1px);clip: rect(1px, 1px, 1px, 1px);height: 1px;margin: -1px;overflow: hidden;padding: 0;position: absolute;width: 1px;}#sk-container-id-2 div.sk-estimator {font-family: monospace;background-color: #f0f8ff;border: 1px dotted black;border-radius: 0.25em;box-sizing: border-box;margin-bottom: 0.5em;}#sk-container-id-2 div.sk-estimator:hover {background-color: #d4ebff;}#sk-container-id-2 div.sk-parallel-item::after {content: \"\";width: 100%;border-bottom: 1px solid gray;flex-grow: 1;}#sk-container-id-2 div.sk-label:hover label.sk-toggleable__label {background-color: #d4ebff;}#sk-container-id-2 div.sk-serial::before {content: \"\";position: absolute;border-left: 1px solid gray;box-sizing: border-box;top: 0;bottom: 0;left: 50%;z-index: 0;}#sk-container-id-2 div.sk-serial {display: flex;flex-direction: column;align-items: center;background-color: white;padding-right: 0.2em;padding-left: 0.2em;position: relative;}#sk-container-id-2 div.sk-item {position: relative;z-index: 1;}#sk-container-id-2 div.sk-parallel {display: flex;align-items: stretch;justify-content: center;background-color: white;position: relative;}#sk-container-id-2 div.sk-item::before, #sk-container-id-2 div.sk-parallel-item::before {content: \"\";position: absolute;border-left: 1px solid gray;box-sizing: border-box;top: 0;bottom: 0;left: 50%;z-index: -1;}#sk-container-id-2 div.sk-parallel-item {display: flex;flex-direction: column;z-index: 1;position: relative;background-color: white;}#sk-container-id-2 div.sk-parallel-item:first-child::after {align-self: flex-end;width: 50%;}#sk-container-id-2 div.sk-parallel-item:last-child::after {align-self: flex-start;width: 50%;}#sk-container-id-2 div.sk-parallel-item:only-child::after {width: 0;}#sk-container-id-2 div.sk-dashed-wrapped {border: 1px dashed gray;margin: 0 0.4em 0.5em 0.4em;box-sizing: border-box;padding-bottom: 0.4em;background-color: white;}#sk-container-id-2 div.sk-label label {font-family: monospace;font-weight: bold;display: inline-block;line-height: 1.2em;}#sk-container-id-2 div.sk-label-container {text-align: center;}#sk-container-id-2 div.sk-container {/* jupyter's `normalize.less` sets `[hidden] { display: none; }` but bootstrap.min.css set `[hidden] { display: none !important; }` so we also need the `!important` here to be able to override the default hidden behavior on the sphinx rendered scikit-learn.org. See: https://github.com/scikit-learn/scikit-learn/issues/21755 */display: inline-block !important;position: relative;}#sk-container-id-2 div.sk-text-repr-fallback {display: none;}</style><div id=\"sk-container-id-2\" class=\"sk-top-container\"><div class=\"sk-text-repr-fallback\"><pre>GridSearchCV(cv=TimeSeriesSplit(gap=0, max_train_size=None, n_splits=5, test_size=None),\n",
       "             estimator=LGBMRegressor(objective=&#x27;regression&#x27;),\n",
       "             param_grid={&#x27;learning_rate&#x27;: [0.1, 0.2],\n",
       "                         &#x27;max_depth&#x27;: range(10, 31, 10),\n",
       "                         &#x27;n_estimators&#x27;: range(40, 201, 40)},\n",
       "             scoring=make_scorer(mean_squared_error, greater_is_better=False, squared=False),\n",
       "             verbose=3)</pre><b>In a Jupyter environment, please rerun this cell to show the HTML representation or trust the notebook. <br />On GitHub, the HTML representation is unable to render, please try loading this page with nbviewer.org.</b></div><div class=\"sk-container\" hidden><div class=\"sk-item sk-dashed-wrapped\"><div class=\"sk-label-container\"><div class=\"sk-label sk-toggleable\"><input class=\"sk-toggleable__control sk-hidden--visually\" id=\"sk-estimator-id-4\" type=\"checkbox\" ><label for=\"sk-estimator-id-4\" class=\"sk-toggleable__label sk-toggleable__label-arrow\">GridSearchCV</label><div class=\"sk-toggleable__content\"><pre>GridSearchCV(cv=TimeSeriesSplit(gap=0, max_train_size=None, n_splits=5, test_size=None),\n",
       "             estimator=LGBMRegressor(objective=&#x27;regression&#x27;),\n",
       "             param_grid={&#x27;learning_rate&#x27;: [0.1, 0.2],\n",
       "                         &#x27;max_depth&#x27;: range(10, 31, 10),\n",
       "                         &#x27;n_estimators&#x27;: range(40, 201, 40)},\n",
       "             scoring=make_scorer(mean_squared_error, greater_is_better=False, squared=False),\n",
       "             verbose=3)</pre></div></div></div><div class=\"sk-parallel\"><div class=\"sk-parallel-item\"><div class=\"sk-item\"><div class=\"sk-label-container\"><div class=\"sk-label sk-toggleable\"><input class=\"sk-toggleable__control sk-hidden--visually\" id=\"sk-estimator-id-5\" type=\"checkbox\" ><label for=\"sk-estimator-id-5\" class=\"sk-toggleable__label sk-toggleable__label-arrow\">estimator: LGBMRegressor</label><div class=\"sk-toggleable__content\"><pre>LGBMRegressor(objective=&#x27;regression&#x27;)</pre></div></div></div><div class=\"sk-serial\"><div class=\"sk-item\"><div class=\"sk-estimator sk-toggleable\"><input class=\"sk-toggleable__control sk-hidden--visually\" id=\"sk-estimator-id-6\" type=\"checkbox\" ><label for=\"sk-estimator-id-6\" class=\"sk-toggleable__label sk-toggleable__label-arrow\">LGBMRegressor</label><div class=\"sk-toggleable__content\"><pre>LGBMRegressor(objective=&#x27;regression&#x27;)</pre></div></div></div></div></div></div></div></div></div></div>"
      ],
      "text/plain": [
       "GridSearchCV(cv=TimeSeriesSplit(gap=0, max_train_size=None, n_splits=5, test_size=None),\n",
       "             estimator=LGBMRegressor(objective='regression'),\n",
       "             param_grid={'learning_rate': [0.1, 0.2],\n",
       "                         'max_depth': range(10, 31, 10),\n",
       "                         'n_estimators': range(40, 201, 40)},\n",
       "             scoring=make_scorer(mean_squared_error, greater_is_better=False, squared=False),\n",
       "             verbose=3)"
      ]
     },
     "execution_count": 32,
     "metadata": {},
     "output_type": "execute_result"
    }
   ],
   "source": [
    "grid.fit(features_train, target_train)"
   ]
  },
  {
   "cell_type": "markdown",
   "id": "86528787",
   "metadata": {},
   "source": [
    "Получим лучшие параметры для модели и усредненный результат кросс-валидации при их использовании:"
   ]
  },
  {
   "cell_type": "code",
   "execution_count": 33,
   "id": "ddd3a4ff",
   "metadata": {},
   "outputs": [
    {
     "name": "stdout",
     "output_type": "stream",
     "text": [
      "{'learning_rate': 0.2, 'max_depth': 10, 'n_estimators': 40}\n",
      "25.11117285854839\n"
     ]
    }
   ],
   "source": [
    "print(grid.best_params_)\n",
    "print(abs(grid.best_score_))"
   ]
  },
  {
   "cell_type": "markdown",
   "id": "99e698fc",
   "metadata": {},
   "source": [
    "Лучшими значениями параметров для модели оказались max_depth: 10, learning_rate: 0.2, n_estimators: 40. RMSE модели оказалось равным 25.1 - лучший результат по итогам обучения. Выберем эту модель для **проверки на тестовом наборе**."
   ]
  },
  {
   "cell_type": "markdown",
   "id": "a557b597",
   "metadata": {},
   "source": [
    "Создадим новую модель, учитывая результаты гридсерча:"
   ]
  },
  {
   "cell_type": "code",
   "execution_count": 34,
   "id": "1afc8b84",
   "metadata": {},
   "outputs": [],
   "source": [
    "model = LGBMRegressor(\n",
    "    boosting_type='gbdt',\n",
    "    num_leaves=31,\n",
    "    max_depth=10,\n",
    "    learning_rate=0.2,\n",
    "    n_estimators=40,\n",
    "    objective='regression',\n",
    "    min_split_gain=0.0,\n",
    "    min_child_samples=20,\n",
    "    subsample=1.0,\n",
    "    subsample_freq=0,\n",
    "    colsample_bytree=1.0,\n",
    "    reg_alpha=0.0,\n",
    "    reg_lambda=0.0,\n",
    "    random_state=None\n",
    ")"
   ]
  },
  {
   "cell_type": "markdown",
   "id": "edd1c952",
   "metadata": {},
   "source": [
    "Обучим ее на тренировочной выборке:"
   ]
  },
  {
   "cell_type": "code",
   "execution_count": 35,
   "id": "41e385f7",
   "metadata": {
    "scrolled": true
   },
   "outputs": [
    {
     "data": {
      "text/html": [
       "<style>#sk-container-id-3 {color: black;background-color: white;}#sk-container-id-3 pre{padding: 0;}#sk-container-id-3 div.sk-toggleable {background-color: white;}#sk-container-id-3 label.sk-toggleable__label {cursor: pointer;display: block;width: 100%;margin-bottom: 0;padding: 0.3em;box-sizing: border-box;text-align: center;}#sk-container-id-3 label.sk-toggleable__label-arrow:before {content: \"▸\";float: left;margin-right: 0.25em;color: #696969;}#sk-container-id-3 label.sk-toggleable__label-arrow:hover:before {color: black;}#sk-container-id-3 div.sk-estimator:hover label.sk-toggleable__label-arrow:before {color: black;}#sk-container-id-3 div.sk-toggleable__content {max-height: 0;max-width: 0;overflow: hidden;text-align: left;background-color: #f0f8ff;}#sk-container-id-3 div.sk-toggleable__content pre {margin: 0.2em;color: black;border-radius: 0.25em;background-color: #f0f8ff;}#sk-container-id-3 input.sk-toggleable__control:checked~div.sk-toggleable__content {max-height: 200px;max-width: 100%;overflow: auto;}#sk-container-id-3 input.sk-toggleable__control:checked~label.sk-toggleable__label-arrow:before {content: \"▾\";}#sk-container-id-3 div.sk-estimator input.sk-toggleable__control:checked~label.sk-toggleable__label {background-color: #d4ebff;}#sk-container-id-3 div.sk-label input.sk-toggleable__control:checked~label.sk-toggleable__label {background-color: #d4ebff;}#sk-container-id-3 input.sk-hidden--visually {border: 0;clip: rect(1px 1px 1px 1px);clip: rect(1px, 1px, 1px, 1px);height: 1px;margin: -1px;overflow: hidden;padding: 0;position: absolute;width: 1px;}#sk-container-id-3 div.sk-estimator {font-family: monospace;background-color: #f0f8ff;border: 1px dotted black;border-radius: 0.25em;box-sizing: border-box;margin-bottom: 0.5em;}#sk-container-id-3 div.sk-estimator:hover {background-color: #d4ebff;}#sk-container-id-3 div.sk-parallel-item::after {content: \"\";width: 100%;border-bottom: 1px solid gray;flex-grow: 1;}#sk-container-id-3 div.sk-label:hover label.sk-toggleable__label {background-color: #d4ebff;}#sk-container-id-3 div.sk-serial::before {content: \"\";position: absolute;border-left: 1px solid gray;box-sizing: border-box;top: 0;bottom: 0;left: 50%;z-index: 0;}#sk-container-id-3 div.sk-serial {display: flex;flex-direction: column;align-items: center;background-color: white;padding-right: 0.2em;padding-left: 0.2em;position: relative;}#sk-container-id-3 div.sk-item {position: relative;z-index: 1;}#sk-container-id-3 div.sk-parallel {display: flex;align-items: stretch;justify-content: center;background-color: white;position: relative;}#sk-container-id-3 div.sk-item::before, #sk-container-id-3 div.sk-parallel-item::before {content: \"\";position: absolute;border-left: 1px solid gray;box-sizing: border-box;top: 0;bottom: 0;left: 50%;z-index: -1;}#sk-container-id-3 div.sk-parallel-item {display: flex;flex-direction: column;z-index: 1;position: relative;background-color: white;}#sk-container-id-3 div.sk-parallel-item:first-child::after {align-self: flex-end;width: 50%;}#sk-container-id-3 div.sk-parallel-item:last-child::after {align-self: flex-start;width: 50%;}#sk-container-id-3 div.sk-parallel-item:only-child::after {width: 0;}#sk-container-id-3 div.sk-dashed-wrapped {border: 1px dashed gray;margin: 0 0.4em 0.5em 0.4em;box-sizing: border-box;padding-bottom: 0.4em;background-color: white;}#sk-container-id-3 div.sk-label label {font-family: monospace;font-weight: bold;display: inline-block;line-height: 1.2em;}#sk-container-id-3 div.sk-label-container {text-align: center;}#sk-container-id-3 div.sk-container {/* jupyter's `normalize.less` sets `[hidden] { display: none; }` but bootstrap.min.css set `[hidden] { display: none !important; }` so we also need the `!important` here to be able to override the default hidden behavior on the sphinx rendered scikit-learn.org. See: https://github.com/scikit-learn/scikit-learn/issues/21755 */display: inline-block !important;position: relative;}#sk-container-id-3 div.sk-text-repr-fallback {display: none;}</style><div id=\"sk-container-id-3\" class=\"sk-top-container\"><div class=\"sk-text-repr-fallback\"><pre>LGBMRegressor(learning_rate=0.2, max_depth=10, n_estimators=40,\n",
       "              objective=&#x27;regression&#x27;)</pre><b>In a Jupyter environment, please rerun this cell to show the HTML representation or trust the notebook. <br />On GitHub, the HTML representation is unable to render, please try loading this page with nbviewer.org.</b></div><div class=\"sk-container\" hidden><div class=\"sk-item\"><div class=\"sk-estimator sk-toggleable\"><input class=\"sk-toggleable__control sk-hidden--visually\" id=\"sk-estimator-id-7\" type=\"checkbox\" checked><label for=\"sk-estimator-id-7\" class=\"sk-toggleable__label sk-toggleable__label-arrow\">LGBMRegressor</label><div class=\"sk-toggleable__content\"><pre>LGBMRegressor(learning_rate=0.2, max_depth=10, n_estimators=40,\n",
       "              objective=&#x27;regression&#x27;)</pre></div></div></div></div></div>"
      ],
      "text/plain": [
       "LGBMRegressor(learning_rate=0.2, max_depth=10, n_estimators=40,\n",
       "              objective='regression')"
      ]
     },
     "execution_count": 35,
     "metadata": {},
     "output_type": "execute_result"
    }
   ],
   "source": [
    "model.fit(features_train, target_train)"
   ]
  },
  {
   "cell_type": "markdown",
   "id": "e7cfe4ee",
   "metadata": {},
   "source": [
    "Теперь предскажем тестовые данные:"
   ]
  },
  {
   "cell_type": "code",
   "execution_count": 36,
   "id": "961c8ec2",
   "metadata": {},
   "outputs": [],
   "source": [
    "target_predicted = model.predict(features_test)"
   ]
  },
  {
   "cell_type": "markdown",
   "id": "db82fc02",
   "metadata": {},
   "source": [
    "Посчитаем метрику rmse:"
   ]
  },
  {
   "cell_type": "code",
   "execution_count": 37,
   "id": "5db2bc92",
   "metadata": {},
   "outputs": [
    {
     "data": {
      "text/plain": [
       "44.26856253760921"
      ]
     },
     "execution_count": 37,
     "metadata": {},
     "output_type": "execute_result"
    }
   ],
   "source": [
    "res = mean_squared_error(target_test, target_predicted, squared=False)\n",
    "res"
   ]
  },
  {
   "cell_type": "markdown",
   "id": "2a712cb5",
   "metadata": {},
   "source": [
    "На тестовой выборке получили значение метрики RMSE в 44.3, что укладывается в указанный заказчиком порог, равный 48. Обучение можем признать успешным. Отметим, что значение метрики в 1.8 раза превосходит значение во время кросс-валидации. Вероятно, с помощью корректировки признаков и более точного подбора гиперпараметров можно получить и лучший результат."
   ]
  },
  {
   "cell_type": "markdown",
   "id": "43834b23",
   "metadata": {},
   "source": [
    "Для визуальной оценки предсказаний выведем график, показывающий значения предсказаний и истинные значения за несколько дней. Сперва создадим новую таблицу с соответствующими данными:"
   ]
  },
  {
   "cell_type": "code",
   "execution_count": 38,
   "id": "dea0b4de",
   "metadata": {},
   "outputs": [],
   "source": [
    "y_true = target_test.copy()\n",
    "y_pred = target_predicted.copy()"
   ]
  },
  {
   "cell_type": "code",
   "execution_count": 39,
   "id": "5885e461",
   "metadata": {},
   "outputs": [],
   "source": [
    "d = {'y_true': y_true.values, 'y_pred': y_pred}"
   ]
  },
  {
   "cell_type": "code",
   "execution_count": 40,
   "id": "1274b833",
   "metadata": {},
   "outputs": [],
   "source": [
    "pred_eval_table = pd.DataFrame(data=d, index=y_true.index)"
   ]
  },
  {
   "cell_type": "markdown",
   "id": "c6d34e20",
   "metadata": {},
   "source": [
    "Теперь выведем нужный нам график за все время и за несколько дней (3 суток с 20 по 22 августа), чтобы лучше увидеть суточную динамику:"
   ]
  },
  {
   "cell_type": "code",
   "execution_count": 41,
   "id": "f1c82dc3",
   "metadata": {
    "scrolled": true
   },
   "outputs": [
    {
     "data": {
      "image/png": "[encoded data removed]",
      "text/plain": [
       "<Figure size 1000x300 with 1 Axes>"
      ]
     },
     "metadata": {},
     "output_type": "display_data"
    }
   ],
   "source": [
    "plt.figure(figsize=(10, 3))\n",
    "pred_eval_table.plot(ax=plt.gca())\n",
    "plt.title('Prediction evaluation table')\n",
    "plt.tight_layout()"
   ]
  },
  {
   "cell_type": "code",
   "execution_count": 42,
   "id": "725565df",
   "metadata": {},
   "outputs": [
    {
     "data": {
      "image/png": "[encoded data removed]",
      "text/plain": [
       "<Figure size 1000x300 with 1 Axes>"
      ]
     },
     "metadata": {},
     "output_type": "display_data"
    }
   ],
   "source": [
    "plt.figure(figsize=(10, 3))\n",
    "pred_eval_table['2018-08-20':'2018-08-23 00:00:00'].plot(ax=plt.gca())\n",
    "plt.title('Prediction evaluation table')\n",
    "plt.tight_layout()"
   ]
  },
  {
   "cell_type": "markdown",
   "id": "3e0a587b",
   "metadata": {},
   "source": [
    "Кроме того, для понимания общей ситуации, выведем основные статистики по всей таблице:"
   ]
  },
  {
   "cell_type": "code",
   "execution_count": 43,
   "id": "0a8fbbea",
   "metadata": {
    "scrolled": true
   },
   "outputs": [
    {
     "data": {
      "text/html": [
       "<div>\n",
       "<style scoped>\n",
       "    .dataframe tbody tr th:only-of-type {\n",
       "        vertical-align: middle;\n",
       "    }\n",
       "\n",
       "    .dataframe tbody tr th {\n",
       "        vertical-align: top;\n",
       "    }\n",
       "\n",
       "    .dataframe thead th {\n",
       "        text-align: right;\n",
       "    }\n",
       "</style>\n",
       "<table border=\"1\" class=\"dataframe\">\n",
       "  <thead>\n",
       "    <tr style=\"text-align: right;\">\n",
       "      <th></th>\n",
       "      <th>y_true</th>\n",
       "      <th>y_pred</th>\n",
       "    </tr>\n",
       "  </thead>\n",
       "  <tbody>\n",
       "    <tr>\n",
       "      <th>count</th>\n",
       "      <td>442.000000</td>\n",
       "      <td>442.000000</td>\n",
       "    </tr>\n",
       "    <tr>\n",
       "      <th>mean</th>\n",
       "      <td>139.556561</td>\n",
       "      <td>119.134646</td>\n",
       "    </tr>\n",
       "    <tr>\n",
       "      <th>std</th>\n",
       "      <td>58.615955</td>\n",
       "      <td>39.507185</td>\n",
       "    </tr>\n",
       "    <tr>\n",
       "      <th>min</th>\n",
       "      <td>13.000000</td>\n",
       "      <td>34.699649</td>\n",
       "    </tr>\n",
       "    <tr>\n",
       "      <th>50%</th>\n",
       "      <td>135.000000</td>\n",
       "      <td>115.915470</td>\n",
       "    </tr>\n",
       "    <tr>\n",
       "      <th>max</th>\n",
       "      <td>462.000000</td>\n",
       "      <td>223.436835</td>\n",
       "    </tr>\n",
       "  </tbody>\n",
       "</table>\n",
       "</div>"
      ],
      "text/plain": [
       "           y_true      y_pred\n",
       "count  442.000000  442.000000\n",
       "mean   139.556561  119.134646\n",
       "std     58.615955   39.507185\n",
       "min     13.000000   34.699649\n",
       "50%    135.000000  115.915470\n",
       "max    462.000000  223.436835"
      ]
     },
     "execution_count": 43,
     "metadata": {},
     "output_type": "execute_result"
    }
   ],
   "source": [
    "pred_eval_table.describe(percentiles=[.5])"
   ]
  },
  {
   "cell_type": "markdown",
   "id": "4b7970ac",
   "metadata": {},
   "source": [
    "Заметим, что предсказания имеют тенденцию **недооценивать** реальные значения, особенно в локальных максимумах. Это наблюдение подтверждают и статистические данные - и **среднее и медиана у предсказания ниже, чем у истинных данных**. Кроме того видим, что максимальное значение реальных данных в 2 раза выше, чем у предсказанных, минимальное значение также отличется в 2 раза от предсказания модели. По графику можем сказать, что **максимум достигается 20го августа, а минимум - 30го.** Можем сказать (также беря во внимание и стандартное отклонение), что **предсказания модели представляют из себя** как бы **усредненные, сглаженные реальные данные**.<br>\n",
    "\n",
    "**Cамая заметная недооценка происходит**, как кажется, **в районе полуночи**, что особенно заметно как раз 20го числа (также 27го и 18го). Однако, **модель** достаточно **хорошо себя показывает в промежутке примерно с 6 до 12 утра**, где визуальный разрыв с реальными значениями минимален."
   ]
  }
 ],
 "metadata": {
  "ExecuteTimeLog": [
   {
    "duration": 5096,
    "start_time": "2023-03-05T16:27:57.088Z"
   },
   {
    "duration": 150,
    "start_time": "2023-03-05T16:28:02.186Z"
   },
   {
    "duration": 0,
    "start_time": "2023-03-05T16:28:02.339Z"
   },
   {
    "duration": 0,
    "start_time": "2023-03-05T16:28:02.341Z"
   },
   {
    "duration": 0,
    "start_time": "2023-03-05T16:28:02.342Z"
   },
   {
    "duration": 1,
    "start_time": "2023-03-05T16:28:02.343Z"
   },
   {
    "duration": 0,
    "start_time": "2023-03-05T16:28:02.345Z"
   },
   {
    "duration": 0,
    "start_time": "2023-03-05T16:28:02.346Z"
   },
   {
    "duration": 0,
    "start_time": "2023-03-05T16:28:02.348Z"
   },
   {
    "duration": 0,
    "start_time": "2023-03-05T16:28:02.349Z"
   },
   {
    "duration": 0,
    "start_time": "2023-03-05T16:28:02.350Z"
   },
   {
    "duration": 0,
    "start_time": "2023-03-05T16:28:02.352Z"
   },
   {
    "duration": 0,
    "start_time": "2023-03-05T16:28:02.353Z"
   },
   {
    "duration": 0,
    "start_time": "2023-03-05T16:28:02.354Z"
   },
   {
    "duration": 0,
    "start_time": "2023-03-05T16:28:02.356Z"
   },
   {
    "duration": 0,
    "start_time": "2023-03-05T16:28:02.357Z"
   },
   {
    "duration": 0,
    "start_time": "2023-03-05T16:28:02.358Z"
   },
   {
    "duration": 0,
    "start_time": "2023-03-05T16:28:02.392Z"
   },
   {
    "duration": 0,
    "start_time": "2023-03-05T16:28:02.393Z"
   },
   {
    "duration": 1,
    "start_time": "2023-03-05T16:28:02.394Z"
   },
   {
    "duration": 0,
    "start_time": "2023-03-05T16:28:02.395Z"
   },
   {
    "duration": 0,
    "start_time": "2023-03-05T16:28:02.397Z"
   },
   {
    "duration": 0,
    "start_time": "2023-03-05T16:28:02.398Z"
   },
   {
    "duration": 0,
    "start_time": "2023-03-05T16:28:02.399Z"
   },
   {
    "duration": 0,
    "start_time": "2023-03-05T16:28:02.400Z"
   },
   {
    "duration": 0,
    "start_time": "2023-03-05T16:28:02.401Z"
   },
   {
    "duration": 0,
    "start_time": "2023-03-05T16:28:02.402Z"
   },
   {
    "duration": 1,
    "start_time": "2023-03-05T16:28:02.403Z"
   },
   {
    "duration": 0,
    "start_time": "2023-03-05T16:28:02.405Z"
   },
   {
    "duration": 0,
    "start_time": "2023-03-05T16:28:02.406Z"
   },
   {
    "duration": 0,
    "start_time": "2023-03-05T16:28:02.407Z"
   },
   {
    "duration": 0,
    "start_time": "2023-03-05T16:28:02.408Z"
   },
   {
    "duration": 0,
    "start_time": "2023-03-05T16:28:02.409Z"
   },
   {
    "duration": 0,
    "start_time": "2023-03-05T16:28:02.410Z"
   },
   {
    "duration": 0,
    "start_time": "2023-03-05T16:28:02.411Z"
   },
   {
    "duration": 0,
    "start_time": "2023-03-05T16:28:02.412Z"
   },
   {
    "duration": 0,
    "start_time": "2023-03-05T16:28:02.413Z"
   },
   {
    "duration": 0,
    "start_time": "2023-03-05T16:28:02.415Z"
   },
   {
    "duration": 0,
    "start_time": "2023-03-05T16:28:02.416Z"
   },
   {
    "duration": 0,
    "start_time": "2023-03-05T16:28:02.417Z"
   },
   {
    "duration": 0,
    "start_time": "2023-03-05T16:28:02.418Z"
   },
   {
    "duration": 0,
    "start_time": "2023-03-05T16:28:02.419Z"
   },
   {
    "duration": 0,
    "start_time": "2023-03-05T16:28:02.420Z"
   },
   {
    "duration": 116,
    "start_time": "2023-03-05T16:28:32.296Z"
   },
   {
    "duration": 4,
    "start_time": "2023-03-05T16:28:34.733Z"
   },
   {
    "duration": 50,
    "start_time": "2023-03-05T16:28:34.738Z"
   },
   {
    "duration": 5,
    "start_time": "2023-03-05T16:28:34.789Z"
   },
   {
    "duration": 10,
    "start_time": "2023-03-05T16:28:34.795Z"
   },
   {
    "duration": 8,
    "start_time": "2023-03-05T16:28:34.807Z"
   },
   {
    "duration": 3,
    "start_time": "2023-03-05T16:28:34.816Z"
   },
   {
    "duration": 6,
    "start_time": "2023-03-05T16:28:34.820Z"
   },
   {
    "duration": 14,
    "start_time": "2023-03-05T16:28:34.827Z"
   },
   {
    "duration": 449,
    "start_time": "2023-03-05T16:28:34.842Z"
   },
   {
    "duration": 7,
    "start_time": "2023-03-05T16:28:35.293Z"
   },
   {
    "duration": 584,
    "start_time": "2023-03-05T16:28:35.302Z"
   },
   {
    "duration": 8,
    "start_time": "2023-03-05T16:28:35.890Z"
   },
   {
    "duration": 228,
    "start_time": "2023-03-05T16:28:35.900Z"
   },
   {
    "duration": 4,
    "start_time": "2023-03-05T16:28:36.131Z"
   },
   {
    "duration": 6,
    "start_time": "2023-03-05T16:28:36.136Z"
   },
   {
    "duration": 7,
    "start_time": "2023-03-05T16:28:36.143Z"
   },
   {
    "duration": 6,
    "start_time": "2023-03-05T16:28:36.151Z"
   },
   {
    "duration": 5,
    "start_time": "2023-03-05T16:28:36.158Z"
   },
   {
    "duration": 7,
    "start_time": "2023-03-05T16:28:36.165Z"
   },
   {
    "duration": 18,
    "start_time": "2023-03-05T16:28:36.173Z"
   },
   {
    "duration": 3,
    "start_time": "2023-03-05T16:28:36.193Z"
   },
   {
    "duration": 4,
    "start_time": "2023-03-05T16:28:36.197Z"
   },
   {
    "duration": 31,
    "start_time": "2023-03-05T16:28:36.202Z"
   },
   {
    "duration": 6,
    "start_time": "2023-03-05T16:28:36.291Z"
   },
   {
    "duration": 5,
    "start_time": "2023-03-05T16:28:36.391Z"
   },
   {
    "duration": 6,
    "start_time": "2023-03-05T16:28:36.398Z"
   },
   {
    "duration": 47488,
    "start_time": "2023-03-05T16:28:36.405Z"
   },
   {
    "duration": 3,
    "start_time": "2023-03-05T16:29:23.895Z"
   },
   {
    "duration": 4,
    "start_time": "2023-03-05T16:29:23.900Z"
   },
   {
    "duration": 3396,
    "start_time": "2023-03-05T16:29:23.906Z"
   },
   {
    "duration": 3,
    "start_time": "2023-03-05T16:29:27.305Z"
   },
   {
    "duration": 5,
    "start_time": "2023-03-05T16:29:27.310Z"
   },
   {
    "duration": 262410,
    "start_time": "2023-03-05T16:29:27.317Z"
   },
   {
    "duration": 0,
    "start_time": "2023-03-05T16:33:49.729Z"
   },
   {
    "duration": 0,
    "start_time": "2023-03-05T16:33:49.731Z"
   },
   {
    "duration": 0,
    "start_time": "2023-03-05T16:33:49.733Z"
   },
   {
    "duration": 0,
    "start_time": "2023-03-05T16:33:49.734Z"
   },
   {
    "duration": 0,
    "start_time": "2023-03-05T16:33:49.735Z"
   },
   {
    "duration": 0,
    "start_time": "2023-03-05T16:33:49.736Z"
   },
   {
    "duration": 0,
    "start_time": "2023-03-05T16:33:49.736Z"
   },
   {
    "duration": 0,
    "start_time": "2023-03-05T16:33:49.737Z"
   },
   {
    "duration": 0,
    "start_time": "2023-03-05T16:33:49.739Z"
   },
   {
    "duration": 0,
    "start_time": "2023-03-05T16:33:49.740Z"
   },
   {
    "duration": 0,
    "start_time": "2023-03-05T16:33:49.792Z"
   },
   {
    "duration": 2,
    "start_time": "2023-03-05T16:33:51.208Z"
   },
   {
    "duration": 4,
    "start_time": "2023-03-05T16:33:53.860Z"
   },
   {
    "duration": 3,
    "start_time": "2023-03-05T16:33:56.228Z"
   },
   {
    "duration": 221238,
    "start_time": "2023-03-05T16:33:57.768Z"
   },
   {
    "duration": 11,
    "start_time": "2023-03-05T16:37:39.009Z"
   },
   {
    "duration": 74,
    "start_time": "2023-03-05T16:37:39.021Z"
   },
   {
    "duration": 16,
    "start_time": "2023-03-05T16:37:39.098Z"
   },
   {
    "duration": 6,
    "start_time": "2023-03-05T16:37:39.115Z"
   },
   {
    "duration": 11,
    "start_time": "2023-03-05T16:37:39.122Z"
   },
   {
    "duration": 305,
    "start_time": "2023-03-05T16:37:39.134Z"
   },
   {
    "duration": 14,
    "start_time": "2023-03-05T16:37:39.440Z"
   },
   {
    "duration": 21,
    "start_time": "2023-03-05T16:39:41.480Z"
   },
   {
    "duration": 10,
    "start_time": "2023-03-05T16:39:46.109Z"
   },
   {
    "duration": 20,
    "start_time": "2023-03-05T16:39:48.979Z"
   },
   {
    "duration": 1479,
    "start_time": "2023-03-05T17:01:41.355Z"
   },
   {
    "duration": 129,
    "start_time": "2023-03-05T17:01:57.868Z"
   },
   {
    "duration": 1114,
    "start_time": "2023-03-05T17:02:09.375Z"
   },
   {
    "duration": 8,
    "start_time": "2023-03-05T17:02:35.069Z"
   },
   {
    "duration": 3,
    "start_time": "2023-03-05T17:02:59.471Z"
   },
   {
    "duration": 935,
    "start_time": "2023-03-05T17:03:00.876Z"
   },
   {
    "duration": 4,
    "start_time": "2023-03-05T17:03:04.073Z"
   },
   {
    "duration": 3,
    "start_time": "2023-03-05T17:03:40.569Z"
   },
   {
    "duration": 141,
    "start_time": "2023-03-05T17:03:41.469Z"
   },
   {
    "duration": 5,
    "start_time": "2023-03-05T17:03:45.075Z"
   },
   {
    "duration": 8,
    "start_time": "2023-03-05T17:03:47.679Z"
   },
   {
    "duration": 8,
    "start_time": "2023-03-05T17:03:50.204Z"
   },
   {
    "duration": 3,
    "start_time": "2023-03-05T17:03:53.918Z"
   },
   {
    "duration": 6,
    "start_time": "2023-03-05T17:04:05.614Z"
   },
   {
    "duration": 4,
    "start_time": "2023-03-05T17:05:43.523Z"
   },
   {
    "duration": 75,
    "start_time": "2023-03-05T17:05:43.530Z"
   },
   {
    "duration": 3,
    "start_time": "2023-03-05T17:05:43.607Z"
   },
   {
    "duration": 17,
    "start_time": "2023-03-05T17:05:43.612Z"
   },
   {
    "duration": 12,
    "start_time": "2023-03-05T17:05:43.631Z"
   },
   {
    "duration": 5,
    "start_time": "2023-03-05T17:05:43.645Z"
   },
   {
    "duration": 8,
    "start_time": "2023-03-05T17:05:43.651Z"
   },
   {
    "duration": 9,
    "start_time": "2023-03-05T17:06:36.283Z"
   },
   {
    "duration": 425,
    "start_time": "2023-03-05T17:06:36.740Z"
   },
   {
    "duration": 8,
    "start_time": "2023-03-05T17:06:40.417Z"
   },
   {
    "duration": 556,
    "start_time": "2023-03-05T17:06:41.072Z"
   },
   {
    "duration": 9,
    "start_time": "2023-03-05T17:06:43.933Z"
   },
   {
    "duration": 264,
    "start_time": "2023-03-05T17:06:44.264Z"
   },
   {
    "duration": 7,
    "start_time": "2023-03-05T17:09:01.784Z"
   },
   {
    "duration": 98,
    "start_time": "2023-03-05T17:09:08.167Z"
   },
   {
    "duration": 8,
    "start_time": "2023-03-05T17:09:18.531Z"
   },
   {
    "duration": 7,
    "start_time": "2023-03-05T17:09:24.980Z"
   },
   {
    "duration": 484,
    "start_time": "2023-03-05T17:09:32.628Z"
   },
   {
    "duration": 8,
    "start_time": "2023-03-05T17:09:36.876Z"
   },
   {
    "duration": 229,
    "start_time": "2023-03-05T17:09:37.210Z"
   },
   {
    "duration": 3,
    "start_time": "2023-03-05T17:13:11.542Z"
   },
   {
    "duration": 3,
    "start_time": "2023-03-05T17:14:07.396Z"
   },
   {
    "duration": 3,
    "start_time": "2023-03-05T17:16:17.855Z"
   },
   {
    "duration": 5,
    "start_time": "2023-03-05T17:16:18.311Z"
   },
   {
    "duration": 10,
    "start_time": "2023-03-05T17:16:29.313Z"
   },
   {
    "duration": 7,
    "start_time": "2023-03-05T17:16:43.877Z"
   },
   {
    "duration": 3,
    "start_time": "2023-03-05T17:16:53.393Z"
   },
   {
    "duration": 63,
    "start_time": "2023-03-05T17:16:53.399Z"
   },
   {
    "duration": 3,
    "start_time": "2023-03-05T17:16:53.464Z"
   },
   {
    "duration": 10,
    "start_time": "2023-03-05T17:16:53.468Z"
   },
   {
    "duration": 7,
    "start_time": "2023-03-05T17:16:53.480Z"
   },
   {
    "duration": 3,
    "start_time": "2023-03-05T17:16:53.489Z"
   },
   {
    "duration": 7,
    "start_time": "2023-03-05T17:16:53.493Z"
   },
   {
    "duration": 10,
    "start_time": "2023-03-05T17:16:53.501Z"
   },
   {
    "duration": 378,
    "start_time": "2023-03-05T17:16:53.513Z"
   },
   {
    "duration": 18,
    "start_time": "2023-03-05T17:16:53.893Z"
   },
   {
    "duration": 491,
    "start_time": "2023-03-05T17:16:53.913Z"
   },
   {
    "duration": 9,
    "start_time": "2023-03-05T17:16:54.406Z"
   },
   {
    "duration": 227,
    "start_time": "2023-03-05T17:16:54.416Z"
   },
   {
    "duration": 5,
    "start_time": "2023-03-05T17:16:54.644Z"
   },
   {
    "duration": 7,
    "start_time": "2023-03-05T17:16:54.651Z"
   },
   {
    "duration": 7,
    "start_time": "2023-03-05T17:16:54.660Z"
   },
   {
    "duration": 36,
    "start_time": "2023-03-05T17:16:54.668Z"
   },
   {
    "duration": 9,
    "start_time": "2023-03-05T17:16:54.705Z"
   },
   {
    "duration": 8,
    "start_time": "2023-03-05T17:16:57.022Z"
   },
   {
    "duration": 3,
    "start_time": "2023-03-05T17:18:10.542Z"
   },
   {
    "duration": 5,
    "start_time": "2023-03-05T17:18:11.137Z"
   },
   {
    "duration": 3,
    "start_time": "2023-03-05T17:18:14.809Z"
   },
   {
    "duration": 75,
    "start_time": "2023-03-05T17:18:14.815Z"
   },
   {
    "duration": 4,
    "start_time": "2023-03-05T17:18:14.892Z"
   },
   {
    "duration": 15,
    "start_time": "2023-03-05T17:18:14.897Z"
   },
   {
    "duration": 7,
    "start_time": "2023-03-05T17:18:14.914Z"
   },
   {
    "duration": 4,
    "start_time": "2023-03-05T17:18:14.922Z"
   },
   {
    "duration": 7,
    "start_time": "2023-03-05T17:18:14.928Z"
   },
   {
    "duration": 11,
    "start_time": "2023-03-05T17:18:14.937Z"
   },
   {
    "duration": 426,
    "start_time": "2023-03-05T17:18:14.950Z"
   },
   {
    "duration": 9,
    "start_time": "2023-03-05T17:18:15.377Z"
   },
   {
    "duration": 484,
    "start_time": "2023-03-05T17:18:15.388Z"
   },
   {
    "duration": 8,
    "start_time": "2023-03-05T17:18:15.873Z"
   },
   {
    "duration": 246,
    "start_time": "2023-03-05T17:18:15.883Z"
   },
   {
    "duration": 3,
    "start_time": "2023-03-05T17:18:16.131Z"
   },
   {
    "duration": 10,
    "start_time": "2023-03-05T17:18:16.135Z"
   },
   {
    "duration": 6,
    "start_time": "2023-03-05T17:18:26.756Z"
   },
   {
    "duration": 6,
    "start_time": "2023-03-05T17:18:32.073Z"
   },
   {
    "duration": 3,
    "start_time": "2023-03-05T17:18:38.901Z"
   },
   {
    "duration": 4,
    "start_time": "2023-03-05T17:18:39.320Z"
   },
   {
    "duration": 2,
    "start_time": "2023-03-05T17:18:43.089Z"
   },
   {
    "duration": 2,
    "start_time": "2023-03-05T17:18:46.613Z"
   },
   {
    "duration": 2,
    "start_time": "2023-03-05T17:18:55.577Z"
   },
   {
    "duration": 31,
    "start_time": "2023-03-05T17:18:56.521Z"
   },
   {
    "duration": 4,
    "start_time": "2023-03-05T17:18:58.266Z"
   },
   {
    "duration": 3,
    "start_time": "2023-03-05T17:19:15.091Z"
   },
   {
    "duration": 3,
    "start_time": "2023-03-05T17:19:15.971Z"
   },
   {
    "duration": 37847,
    "start_time": "2023-03-05T17:19:16.502Z"
   },
   {
    "duration": 3,
    "start_time": "2023-03-05T17:20:41.773Z"
   },
   {
    "duration": 4,
    "start_time": "2023-03-05T17:21:11.597Z"
   },
   {
    "duration": 28993,
    "start_time": "2023-03-05T17:21:13.211Z"
   },
   {
    "duration": 3,
    "start_time": "2023-03-05T17:21:42.207Z"
   },
   {
    "duration": 3,
    "start_time": "2023-03-05T17:22:24.422Z"
   },
   {
    "duration": 153229,
    "start_time": "2023-03-05T17:22:24.876Z"
   },
   {
    "duration": 3,
    "start_time": "2023-03-05T17:25:50.592Z"
   },
   {
    "duration": 3,
    "start_time": "2023-03-05T17:26:45.157Z"
   },
   {
    "duration": 211,
    "start_time": "2023-03-05T17:26:48.496Z"
   },
   {
    "duration": 7,
    "start_time": "2023-03-05T17:26:51.532Z"
   },
   {
    "duration": 5,
    "start_time": "2023-03-05T17:26:52.269Z"
   },
   {
    "duration": 4,
    "start_time": "2023-03-05T17:29:13.128Z"
   },
   {
    "duration": 8,
    "start_time": "2023-03-05T17:29:13.475Z"
   },
   {
    "duration": 5,
    "start_time": "2023-03-05T17:29:14.920Z"
   },
   {
    "duration": 5,
    "start_time": "2023-03-05T17:29:17.971Z"
   },
   {
    "duration": 3,
    "start_time": "2023-03-05T17:29:18.601Z"
   },
   {
    "duration": 4,
    "start_time": "2023-03-05T17:29:18.909Z"
   },
   {
    "duration": 3,
    "start_time": "2023-03-05T17:29:22.019Z"
   },
   {
    "duration": 2,
    "start_time": "2023-03-05T17:29:22.883Z"
   },
   {
    "duration": 2,
    "start_time": "2023-03-05T17:29:23.611Z"
   },
   {
    "duration": 33,
    "start_time": "2023-03-05T17:29:25.336Z"
   },
   {
    "duration": 5,
    "start_time": "2023-03-05T17:29:27.132Z"
   },
   {
    "duration": 4,
    "start_time": "2023-03-05T17:29:46.783Z"
   },
   {
    "duration": 3,
    "start_time": "2023-03-05T17:30:30.889Z"
   },
   {
    "duration": 311973,
    "start_time": "2023-03-05T17:30:31.384Z"
   },
   {
    "duration": 3,
    "start_time": "2023-03-05T17:37:02.666Z"
   },
   {
    "duration": 5,
    "start_time": "2023-03-05T17:40:16.782Z"
   },
   {
    "duration": 30830,
    "start_time": "2023-03-05T17:40:18.280Z"
   },
   {
    "duration": 5,
    "start_time": "2023-03-05T17:40:49.113Z"
   },
   {
    "duration": 3,
    "start_time": "2023-03-05T17:43:55.579Z"
   },
   {
    "duration": 521998,
    "start_time": "2023-03-05T17:43:56.116Z"
   },
   {
    "duration": 3,
    "start_time": "2023-03-05T17:52:57.337Z"
   },
   {
    "duration": 4,
    "start_time": "2023-03-05T17:55:27.981Z"
   },
   {
    "duration": 183,
    "start_time": "2023-03-05T17:55:31.331Z"
   },
   {
    "duration": 10,
    "start_time": "2023-03-05T17:55:33.345Z"
   },
   {
    "duration": 5,
    "start_time": "2023-03-05T17:55:33.960Z"
   },
   {
    "duration": 3,
    "start_time": "2023-03-05T18:03:22.697Z"
   },
   {
    "duration": 3,
    "start_time": "2023-03-05T18:03:25.844Z"
   },
   {
    "duration": 3,
    "start_time": "2023-03-05T18:03:26.257Z"
   },
   {
    "duration": 344,
    "start_time": "2023-03-05T18:04:18.524Z"
   },
   {
    "duration": 252,
    "start_time": "2023-03-05T18:06:29.803Z"
   },
   {
    "duration": 16,
    "start_time": "2023-03-05T18:08:39.049Z"
   },
   {
    "duration": 14991,
    "start_time": "2023-03-06T19:47:02.778Z"
   },
   {
    "duration": 274,
    "start_time": "2023-03-06T19:47:17.775Z"
   },
   {
    "duration": 16,
    "start_time": "2023-03-06T19:47:18.055Z"
   },
   {
    "duration": 88,
    "start_time": "2023-03-06T19:47:18.073Z"
   },
   {
    "duration": 27,
    "start_time": "2023-03-06T19:47:18.252Z"
   },
   {
    "duration": 10,
    "start_time": "2023-03-06T19:47:18.348Z"
   },
   {
    "duration": 80,
    "start_time": "2023-03-06T19:47:18.361Z"
   },
   {
    "duration": 1709,
    "start_time": "2023-03-06T19:47:18.447Z"
   },
   {
    "duration": 81,
    "start_time": "2023-03-06T19:47:20.165Z"
   },
   {
    "duration": 2951,
    "start_time": "2023-03-06T19:47:20.251Z"
   },
   {
    "duration": 57,
    "start_time": "2023-03-06T19:47:23.204Z"
   },
   {
    "duration": 999,
    "start_time": "2023-03-06T19:47:23.264Z"
   },
   {
    "duration": 700,
    "start_time": "2023-03-06T19:47:24.271Z"
   },
   {
    "duration": 102,
    "start_time": "2023-03-06T19:47:53.357Z"
   }
  ],
  "kernelspec": {
   "display_name": "Python 3 (ipykernel)",
   "language": "python",
   "name": "python3"
  },
  "language_info": {
   "codemirror_mode": {
    "name": "ipython",
    "version": 3
   },
   "file_extension": ".py",
   "mimetype": "text/x-python",
   "name": "python",
   "nbconvert_exporter": "python",
   "pygments_lexer": "ipython3",
   "version": "3.9.13"
  },
  "toc": {
   "base_numbering": 1,
   "nav_menu": {},
   "number_sections": true,
   "sideBar": true,
   "skip_h1_title": true,
   "title_cell": "Table of Contents",
   "title_sidebar": "Contents",
   "toc_cell": false,
   "toc_position": {},
   "toc_section_display": true,
   "toc_window_display": false
  }
 },
 "nbformat": 4,
 "nbformat_minor": 5
}
